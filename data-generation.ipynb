{
 "cells": [
  {
   "cell_type": "code",
   "execution_count": 101,
   "metadata": {},
   "outputs": [
    {
     "data": {
      "text/plain": [
       "'\\nAuthor       : Aditya Jain\\nDate Started : 3rd December, 2020\\nAbout        : This notebook generates training data from MIME dataset\\n'"
      ]
     },
     "execution_count": 101,
     "metadata": {},
     "output_type": "execute_result"
    }
   ],
   "source": [
    "'''\n",
    "Author       : Aditya Jain\n",
    "Date Started : 3rd December, 2020\n",
    "About        : This notebook generates training data from MIME dataset\n",
    "'''"
   ]
  },
  {
   "cell_type": "code",
   "execution_count": 102,
   "metadata": {},
   "outputs": [],
   "source": [
    "import cv2\n",
    "import matplotlib.pyplot as plt\n",
    "import numpy as np\n",
    "import os\n",
    "import h5py\n",
    "import pickle"
   ]
  },
  {
   "cell_type": "markdown",
   "metadata": {},
   "source": [
    "#### Reading the videos and generating data "
   ]
  },
  {
   "cell_type": "code",
   "execution_count": 103,
   "metadata": {},
   "outputs": [],
   "source": [
    "def prep_input_image(video_path, n_frames, down_f):\n",
    "    ''' \n",
    "    Given a video, prepares the final downsized concatenated image for training\n",
    "    Arguments:\n",
    "    video_path: the file path of video\n",
    "    n_frames  : no of frames to sample from the video at equal intervals\n",
    "    down_f    : downscaling factor for the image\n",
    "    '''\n",
    "    \n",
    "    vidcap      = cv2.VideoCapture(video_path)     \n",
    "    fps         = vidcap.get(cv2.CAP_PROP_FPS)           #  FPS of the video      \n",
    "    frame_count = vidcap.get(cv2.CAP_PROP_FRAME_COUNT)   #  total frame count\n",
    "    total_sec   = frame_count/fps\n",
    "    sec         = 0\n",
    "    time_sec    = total_sec/n_frames                     # the video will be sampled after every time_sec\n",
    "    final_img   = []\n",
    "        \n",
    "    while sec < total_sec:        \n",
    "        vidcap.set(cv2.CAP_PROP_POS_MSEC, sec * 1000)    # setting which frame to get\n",
    "        \n",
    "        success, image = vidcap.read()\n",
    "\n",
    "        if success:\n",
    "            img_shape = image.shape\n",
    "            image = cv2.resize(image, (int(img_shape[1]/down_f), int(img_shape[0]/down_f)))         # resize by a factor of 4\n",
    "            image = cv2.cvtColor(image, cv2.COLOR_BGR2GRAY)                                         # convert to grayscale\n",
    "            image = image.astype(\"float32\")/255                                                     # normalizing the image from 0 to 1\n",
    "            if sec==0:\n",
    "                final_img = image\n",
    "            else:\n",
    "                final_img = np.hstack((final_img, image))\n",
    "\n",
    "        \n",
    "        sec += time_sec        \n",
    "        \n",
    "    return final_img\n"
   ]
  },
  {
   "cell_type": "markdown",
   "metadata": {},
   "source": [
    "#### Vizualization"
   ]
  },
  {
   "cell_type": "code",
   "execution_count": 15,
   "metadata": {},
   "outputs": [
    {
     "name": "stdout",
     "output_type": "stream",
     "text": [
      "[[0.08235294 0.09411765 0.09019608 ... 0.92941177 0.91764706 0.11764706]\n",
      " [0.09019608 0.09803922 0.09411765 ... 0.9254902  0.08235294 0.10980392]\n",
      " [0.08235294 0.08627451 0.09411765 ... 0.92156863 0.12941177 0.10196079]\n",
      " ...\n",
      " [0.5058824  0.49803922 0.49803922 ... 0.93333334 0.9254902  0.91764706]\n",
      " [0.49803922 0.49019608 0.48235294 ... 0.9411765  0.90588236 0.92156863]\n",
      " [0.48235294 0.48235294 0.47058824 ... 0.9254902  0.93333334 0.9137255 ]]\n",
      "<class 'numpy.ndarray'>\n"
     ]
    },
    {
     "data": {
      "image/png": "[encoded data removed]",
      "text/plain": [
       "<Figure size 432x288 with 1 Axes>"
      ]
     },
     "metadata": {
      "needs_background": "light"
     },
     "output_type": "display_data"
    }
   ],
   "source": [
    "plt.imshow(final_image)\n",
    "print(final_image)\n",
    "print(type(final_image))\n",
    "cv2.imshow('final_data', final_image)\n",
    "cv2.waitKey(0)\n",
    "cv2.destroyAllWindows()"
   ]
  },
  {
   "cell_type": "markdown",
   "metadata": {},
   "source": [
    "#### User-Defined Variables"
   ]
  },
  {
   "cell_type": "code",
   "execution_count": 104,
   "metadata": {},
   "outputs": [],
   "source": [
    "DATA_DIR = '/home/aditya/Dropbox/MIME_full/'\n",
    "N_FRAMES = 10\n",
    "DOWN_F   = 8\n",
    "\n",
    "PRIMITVE_MAP = {\n",
    "    1: 'Reach',\n",
    "    2: 'Tilt',\n",
    "    3: 'Retract',\n",
    "    4: 'Grasp',\n",
    "    5: 'Release'\n",
    "}\n",
    "\n",
    "LABEL_MAP = {\n",
    "    'Push' : [1,1,3],\n",
    "    'Pour' : [1,4,1,2,1,5,3],\n",
    "    'Pick' : [1,4,1,1,5,3],\n",
    "    'Stack': [1,4,1,5,3]\n",
    "}\n"
   ]
  },
  {
   "cell_type": "code",
   "execution_count": 105,
   "metadata": {},
   "outputs": [],
   "source": [
    "def build_dataset(dataset_dir, n_frames, down_f, mapping):\n",
    "    '''\n",
    "    final function which returns the input dataset as well as label\n",
    "    Arguments:\n",
    "    dataset_dir: the top-level directory path for the videos\n",
    "    n_frames  : no of frames to sample from the video at equal intervals\n",
    "    down_f    : downscaling factor for the image\n",
    "    '''\n",
    "    final_data  = []\n",
    "    final_label = []\n",
    "    \n",
    "    tasks    = [x for x in os.listdir(dataset_dir) if os.path.isdir(os.path.join(dataset_dir,x))]\n",
    "    \n",
    "    for task in tasks:\n",
    "        item_path = os.path.join(dataset_dir, task)                                                      # gives access to all video folders in a task folder\n",
    "        \n",
    "        ind_data_pt    = [x for x in os.listdir(item_path) if os.path.isdir(os.path.join(item_path,x))]  # each data folder        \n",
    "        for item in ind_data_pt:\n",
    "            vid_path        = os.path.join(item_path, item)\n",
    "            final_vid_path  = vid_path + '/' + 'hd_kinect_rgb.mp4'\n",
    "            \n",
    "            data_image      = prep_input_image(final_vid_path, n_frames, down_f)\n",
    "            \n",
    "            \n",
    "            final_data.append(data_image)\n",
    "            final_label.append(mapping[task])\n",
    "#             else:\n",
    "#                 final_data  = np.vstack((final_data, data_image))\n",
    "#                 final_label = np.vstack((final_label, mapping[task]))\n",
    "                \n",
    "    return np.asarray(final_data), np.asarray(final_label)\n",
    "            "
   ]
  },
  {
   "cell_type": "code",
   "execution_count": 106,
   "metadata": {},
   "outputs": [],
   "source": [
    "data_img, data_lab = build_dataset(DATA_DIR, N_FRAMES, DOWN_F, LABEL_MAP)"
   ]
  },
  {
   "cell_type": "code",
   "execution_count": 107,
   "metadata": {},
   "outputs": [],
   "source": [
    "comb_data = {\n",
    "    'data_image'   : data_img,\n",
    "    'data_label'   : data_lab,\n",
    "    'primitive_map': PRIMITVE_MAP,\n",
    "    'label_map'    : LABEL_MAP\n",
    "}"
   ]
  },
  {
   "cell_type": "markdown",
   "metadata": {},
   "source": [
    "#### Saving the dataset"
   ]
  },
  {
   "cell_type": "code",
   "execution_count": 109,
   "metadata": {},
   "outputs": [],
   "source": [
    "pickle_out = open(\"MIME_full.pickle\",\"wb\")\n",
    "pickle.dump(comb_data, pickle_out)\n",
    "pickle_out.close()"
   ]
  },
  {
   "cell_type": "markdown",
   "metadata": {},
   "source": [
    "#### Loading Data and Testing "
   ]
  },
  {
   "cell_type": "code",
   "execution_count": 110,
   "metadata": {},
   "outputs": [
    {
     "name": "stdout",
     "output_type": "stream",
     "text": [
      "(1773, 30, 800)\n",
      "(1773,)\n"
     ]
    }
   ],
   "source": [
    "print(comb_data['data_image'].shape)\n",
    "print(comb_data['data_label'].shape)"
   ]
  },
  {
   "cell_type": "code",
   "execution_count": null,
   "metadata": {},
   "outputs": [],
   "source": []
  }
 ],
 "metadata": {
  "kernelspec": {
   "display_name": "Python 3",
   "language": "python",
   "name": "python3"
  },
  "language_info": {
   "codemirror_mode": {
    "name": "ipython",
    "version": 3
   },
   "file_extension": ".py",
   "mimetype": "text/x-python",
   "name": "python",
   "nbconvert_exporter": "python",
   "pygments_lexer": "ipython3",
   "version": "3.7.9"
  }
 },
 "nbformat": 4,
 "nbformat_minor": 4
}
