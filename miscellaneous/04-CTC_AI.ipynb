{
 "cells": [
  {
   "cell_type": "code",
   "execution_count": 22,
   "metadata": {},
   "outputs": [
    {
     "name": "stderr",
     "output_type": "stream",
     "text": [
      "COMET INFO: ---------------------------\n",
      "COMET INFO: Comet.ml Experiment Summary\n",
      "COMET INFO: ---------------------------\n",
      "COMET INFO:   Data:\n",
      "COMET INFO:     display_summary_level : 1\n",
      "COMET INFO:     url                   : https://www.comet.ml/adityajain07/ctc-lfd/6bda73201faf4b69a32a5597390bd09e\n",
      "COMET INFO:   Uploads:\n",
      "COMET INFO:     environment details      : 1\n",
      "COMET INFO:     filename                 : 1\n",
      "COMET INFO:     git metadata             : 1\n",
      "COMET INFO:     git-patch (uncompressed) : 1 (57 KB)\n",
      "COMET INFO:     installed packages       : 1\n",
      "COMET INFO:     os packages              : 1\n",
      "COMET INFO: ---------------------------\n",
      "COMET INFO: Experiment is live on comet.ml https://www.comet.ml/adityajain07/ctc-lfd/2fe3a1dda66f40c99f73ea06662eeec9\n",
      "\n"
     ]
    }
   ],
   "source": [
    "'''\n",
    "Author: Aditya Jain\n",
    "Date  : 16th November, 2020\n",
    "About : This code contains a RNN model with CTC loss function for primitive segmentation in a video\n",
    "'''\n",
    "# import comet_ml at the top of your file\n",
    "from comet_ml import Experiment\n",
    "# Create an experiment with your api key:\n",
    "experiment = Experiment(\n",
    "    api_key=\"epeaAhyRcHSkn92H4kusmbX8k\",\n",
    "    project_name=\"ctc-lfd\",\n",
    "    workspace=\"adityajain07\",\n",
    "    log_code=\"True\"\n",
    ")\n",
    "experiment.set_code()"
   ]
  },
  {
   "cell_type": "code",
   "execution_count": 4,
   "metadata": {},
   "outputs": [],
   "source": [
    "import numpy as np\n",
    "import tensorflow as tf\n",
    "from tensorflow.keras import layers\n",
    "\n",
    "from CTCModel import CTCModel as CTCModel\n",
    "from keras.layers import LSTM, TimeDistributed, Dense, Activation, Input\n",
    "from keras.optimizers import Adam\n",
    "from numpy import zeros\n",
    "import h5py"
   ]
  },
  {
   "cell_type": "markdown",
   "metadata": {},
   "source": [
    "#### Loading IAM Dataset"
   ]
  },
  {
   "cell_type": "code",
   "execution_count": 5,
   "metadata": {},
   "outputs": [
    {
     "name": "stdout",
     "output_type": "stream",
     "text": [
      "(7101, 28, 952)\n",
      "(7101, 97)\n",
      "(1861, 28, 952)\n",
      "(1861, 97)\n"
     ]
    }
   ],
   "source": [
    "dataset_path = \"/home/aditya/Dropbox/LearningfromDemons/ctc_data/iam_lines.h5\"\n",
    "\n",
    "with h5py.File(dataset_path, \"r\") as f:\n",
    "    x_train = f['x_train'][:]\n",
    "    y_train = f['y_train'][:]\n",
    "    x_test  = f['x_test'][:]\n",
    "    y_test  = f['y_test'][:]\n",
    "    \n",
    "    \n",
    "print(x_train.shape)\n",
    "print(y_train.shape)\n",
    "print(x_test.shape)\n",
    "print(y_test.shape)\n"
   ]
  },
  {
   "cell_type": "markdown",
   "metadata": {},
   "source": [
    "#### Defining model architecture"
   ]
  },
  {
   "cell_type": "code",
   "execution_count": 25,
   "metadata": {},
   "outputs": [
    {
     "name": "stdout",
     "output_type": "stream",
     "text": [
      "Model: \"functional_27\"\n",
      "__________________________________________________________________________________________________\n",
      "Layer (type)                    Output Shape         Param #     Connected to                     \n",
      "==================================================================================================\n",
      "input_3 (InputLayer)            [(None, None, 10)]   0                                            \n",
      "__________________________________________________________________________________________________\n",
      "lstm_9 (LSTM)                   (None, None, 128)    71168       input_3[0][0]                    \n",
      "__________________________________________________________________________________________________\n",
      "lstm_10 (LSTM)                  (None, None, 128)    131584      lstm_9[0][0]                     \n",
      "__________________________________________________________________________________________________\n",
      "time_distributed_3 (TimeDistrib (None, None, 10)     1290        lstm_10[0][0]                    \n",
      "__________________________________________________________________________________________________\n",
      "activation_2 (Activation)       (None, None, 10)     0           time_distributed_3[0][0]         \n",
      "__________________________________________________________________________________________________\n",
      "labels (InputLayer)             [(None, None)]       0                                            \n",
      "__________________________________________________________________________________________________\n",
      "input_length (InputLayer)       [(None, 1)]          0                                            \n",
      "__________________________________________________________________________________________________\n",
      "label_length (InputLayer)       [(None, 1)]          0                                            \n",
      "__________________________________________________________________________________________________\n",
      "CTCloss (Lambda)                (None, 1)            0           activation_2[0][0]               \n",
      "                                                                 labels[0][0]                     \n",
      "                                                                 input_length[0][0]               \n",
      "                                                                 label_length[0][0]               \n",
      "==================================================================================================\n",
      "Total params: 204,042\n",
      "Trainable params: 204,042\n",
      "Non-trainable params: 0\n",
      "__________________________________________________________________________________________________\n"
     ]
    }
   ],
   "source": [
    "h_features = 10\n",
    "nb_labels = 10\n",
    "\n",
    "input_layer = Input((None, h_features))\n",
    "lstm0 = LSTM(128, return_sequences=True)(input_layer)\n",
    "lstm1 = LSTM(128, return_sequences=True)(lstm0)\n",
    "dense = TimeDistributed(Dense(nb_labels))(lstm1)\n",
    "output_layer = Activation(\"sigmoid\")(dense)\n",
    "\n",
    "model = CTCModel([input_layer], [output_layer])\n",
    "model.compile(optimizer=Adam(lr=1e-4))\n",
    "model.summary()\n",
    "\n",
    "# model.save_model('./')"
   ]
  },
  {
   "cell_type": "markdown",
   "metadata": {},
   "source": [
    "## Testing"
   ]
  },
  {
   "cell_type": "code",
   "execution_count": 6,
   "metadata": {},
   "outputs": [
    {
     "name": "stdout",
     "output_type": "stream",
     "text": [
      "Downloading data\n",
      "101933056/227887628 [============>.................] - ETA: 19s"
     ]
    },
    {
     "ename": "KeyboardInterrupt",
     "evalue": "",
     "output_type": "error",
     "traceback": [
      "\u001b[0;31m---------------------------------------------------------------------------\u001b[0m",
      "\u001b[0;31mKeyboardInterrupt\u001b[0m                         Traceback (most recent call last)",
      "\u001b[0;32m<ipython-input-6-a7b63e50cfa4>\u001b[0m in \u001b[0;36m<module>\u001b[0;34m\u001b[0m\n\u001b[1;32m     23\u001b[0m \u001b[0;34m\u001b[0m\u001b[0m\n\u001b[1;32m     24\u001b[0m \u001b[0mfpath\u001b[0m \u001b[0;34m=\u001b[0m \u001b[0;34m'./seqDigits.pkl'\u001b[0m\u001b[0;34m\u001b[0m\u001b[0;34m\u001b[0m\u001b[0m\n\u001b[0;32m---> 25\u001b[0;31m \u001b[0mdownload_data\u001b[0m\u001b[0;34m(\u001b[0m\u001b[0;34m)\u001b[0m\u001b[0;34m\u001b[0m\u001b[0;34m\u001b[0m\u001b[0m\n\u001b[0m\u001b[1;32m     26\u001b[0m \u001b[0;34m\u001b[0m\u001b[0m\n\u001b[1;32m     27\u001b[0m \u001b[0;31m# load data from a pickle file\u001b[0m\u001b[0;34m\u001b[0m\u001b[0;34m\u001b[0m\u001b[0;34m\u001b[0m\u001b[0m\n",
      "\u001b[0;32m<ipython-input-6-a7b63e50cfa4>\u001b[0m in \u001b[0;36mdownload_data\u001b[0;34m()\u001b[0m\n\u001b[1;32m     20\u001b[0m                 \u001b[0mProgressTracker\u001b[0m\u001b[0;34m.\u001b[0m\u001b[0mprogbar\u001b[0m\u001b[0;34m.\u001b[0m\u001b[0mupdate\u001b[0m\u001b[0;34m(\u001b[0m\u001b[0mcount\u001b[0m \u001b[0;34m*\u001b[0m \u001b[0mblock_size\u001b[0m\u001b[0;34m)\u001b[0m\u001b[0;34m\u001b[0m\u001b[0;34m\u001b[0m\u001b[0m\n\u001b[1;32m     21\u001b[0m \u001b[0;34m\u001b[0m\u001b[0m\n\u001b[0;32m---> 22\u001b[0;31m         \u001b[0murlretrieve\u001b[0m\u001b[0;34m(\u001b[0m\u001b[0morigin\u001b[0m\u001b[0;34m,\u001b[0m \u001b[0mfpath\u001b[0m\u001b[0;34m,\u001b[0m \u001b[0mdl_progress\u001b[0m\u001b[0;34m)\u001b[0m\u001b[0;34m\u001b[0m\u001b[0;34m\u001b[0m\u001b[0m\n\u001b[0m\u001b[1;32m     23\u001b[0m \u001b[0;34m\u001b[0m\u001b[0m\n\u001b[1;32m     24\u001b[0m \u001b[0mfpath\u001b[0m \u001b[0;34m=\u001b[0m \u001b[0;34m'./seqDigits.pkl'\u001b[0m\u001b[0;34m\u001b[0m\u001b[0;34m\u001b[0m\u001b[0m\n",
      "\u001b[0;32m~/miniconda3/envs/ctc_model/lib/python3.7/urllib/request.py\u001b[0m in \u001b[0;36murlretrieve\u001b[0;34m(url, filename, reporthook, data)\u001b[0m\n\u001b[1;32m    281\u001b[0m                 \u001b[0mblocknum\u001b[0m \u001b[0;34m+=\u001b[0m \u001b[0;36m1\u001b[0m\u001b[0;34m\u001b[0m\u001b[0;34m\u001b[0m\u001b[0m\n\u001b[1;32m    282\u001b[0m                 \u001b[0;32mif\u001b[0m \u001b[0mreporthook\u001b[0m\u001b[0;34m:\u001b[0m\u001b[0;34m\u001b[0m\u001b[0;34m\u001b[0m\u001b[0m\n\u001b[0;32m--> 283\u001b[0;31m                     \u001b[0mreporthook\u001b[0m\u001b[0;34m(\u001b[0m\u001b[0mblocknum\u001b[0m\u001b[0;34m,\u001b[0m \u001b[0mbs\u001b[0m\u001b[0;34m,\u001b[0m \u001b[0msize\u001b[0m\u001b[0;34m)\u001b[0m\u001b[0;34m\u001b[0m\u001b[0;34m\u001b[0m\u001b[0m\n\u001b[0m\u001b[1;32m    284\u001b[0m \u001b[0;34m\u001b[0m\u001b[0m\n\u001b[1;32m    285\u001b[0m     \u001b[0;32mif\u001b[0m \u001b[0msize\u001b[0m \u001b[0;34m>=\u001b[0m \u001b[0;36m0\u001b[0m \u001b[0;32mand\u001b[0m \u001b[0mread\u001b[0m \u001b[0;34m<\u001b[0m \u001b[0msize\u001b[0m\u001b[0;34m:\u001b[0m\u001b[0;34m\u001b[0m\u001b[0;34m\u001b[0m\u001b[0m\n",
      "\u001b[0;32m<ipython-input-6-a7b63e50cfa4>\u001b[0m in \u001b[0;36mdl_progress\u001b[0;34m(count, block_size, total_size)\u001b[0m\n\u001b[1;32m     18\u001b[0m                 \u001b[0mProgressTracker\u001b[0m\u001b[0;34m.\u001b[0m\u001b[0mprogbar\u001b[0m \u001b[0;34m=\u001b[0m \u001b[0mProgbar\u001b[0m\u001b[0;34m(\u001b[0m\u001b[0mtotal_size\u001b[0m\u001b[0;34m)\u001b[0m\u001b[0;34m\u001b[0m\u001b[0;34m\u001b[0m\u001b[0m\n\u001b[1;32m     19\u001b[0m             \u001b[0;32melse\u001b[0m\u001b[0;34m:\u001b[0m\u001b[0;34m\u001b[0m\u001b[0;34m\u001b[0m\u001b[0m\n\u001b[0;32m---> 20\u001b[0;31m                 \u001b[0mProgressTracker\u001b[0m\u001b[0;34m.\u001b[0m\u001b[0mprogbar\u001b[0m\u001b[0;34m.\u001b[0m\u001b[0mupdate\u001b[0m\u001b[0;34m(\u001b[0m\u001b[0mcount\u001b[0m \u001b[0;34m*\u001b[0m \u001b[0mblock_size\u001b[0m\u001b[0;34m)\u001b[0m\u001b[0;34m\u001b[0m\u001b[0;34m\u001b[0m\u001b[0m\n\u001b[0m\u001b[1;32m     21\u001b[0m \u001b[0;34m\u001b[0m\u001b[0m\n\u001b[1;32m     22\u001b[0m         \u001b[0murlretrieve\u001b[0m\u001b[0;34m(\u001b[0m\u001b[0morigin\u001b[0m\u001b[0;34m,\u001b[0m \u001b[0mfpath\u001b[0m\u001b[0;34m,\u001b[0m \u001b[0mdl_progress\u001b[0m\u001b[0;34m)\u001b[0m\u001b[0;34m\u001b[0m\u001b[0;34m\u001b[0m\u001b[0m\n",
      "\u001b[0;32m~/miniconda3/envs/ctc_model/lib/python3.7/site-packages/tensorflow/python/keras/utils/generic_utils.py\u001b[0m in \u001b[0;36mupdate\u001b[0;34m(self, current, values, finalize)\u001b[0m\n\u001b[1;32m    566\u001b[0m \u001b[0;34m\u001b[0m\u001b[0m\n\u001b[1;32m    567\u001b[0m     \u001b[0mnow\u001b[0m \u001b[0;34m=\u001b[0m \u001b[0mtime\u001b[0m\u001b[0;34m.\u001b[0m\u001b[0mtime\u001b[0m\u001b[0;34m(\u001b[0m\u001b[0;34m)\u001b[0m\u001b[0;34m\u001b[0m\u001b[0;34m\u001b[0m\u001b[0m\n\u001b[0;32m--> 568\u001b[0;31m     \u001b[0minfo\u001b[0m \u001b[0;34m=\u001b[0m \u001b[0;34m' - %.0fs'\u001b[0m \u001b[0;34m%\u001b[0m \u001b[0;34m(\u001b[0m\u001b[0mnow\u001b[0m \u001b[0;34m-\u001b[0m \u001b[0mself\u001b[0m\u001b[0;34m.\u001b[0m\u001b[0m_start\u001b[0m\u001b[0;34m)\u001b[0m\u001b[0;34m\u001b[0m\u001b[0;34m\u001b[0m\u001b[0m\n\u001b[0m\u001b[1;32m    569\u001b[0m     \u001b[0;32mif\u001b[0m \u001b[0mself\u001b[0m\u001b[0;34m.\u001b[0m\u001b[0mverbose\u001b[0m \u001b[0;34m==\u001b[0m \u001b[0;36m1\u001b[0m\u001b[0;34m:\u001b[0m\u001b[0;34m\u001b[0m\u001b[0;34m\u001b[0m\u001b[0m\n\u001b[1;32m    570\u001b[0m       \u001b[0;32mif\u001b[0m \u001b[0mnow\u001b[0m \u001b[0;34m-\u001b[0m \u001b[0mself\u001b[0m\u001b[0;34m.\u001b[0m\u001b[0m_last_update\u001b[0m \u001b[0;34m<\u001b[0m \u001b[0mself\u001b[0m\u001b[0;34m.\u001b[0m\u001b[0minterval\u001b[0m \u001b[0;32mand\u001b[0m \u001b[0;32mnot\u001b[0m \u001b[0mfinalize\u001b[0m\u001b[0;34m:\u001b[0m\u001b[0;34m\u001b[0m\u001b[0;34m\u001b[0m\u001b[0m\n",
      "\u001b[0;31mKeyboardInterrupt\u001b[0m: "
     ]
    }
   ],
   "source": [
    "import os\n",
    "from six.moves.urllib.request import urlretrieve\n",
    "from tensorflow.python.keras.utils.generic_utils import Progbar\n",
    "import pickle\n",
    "import matplotlib.pyplot as plt\n",
    "\n",
    "def download_data():\n",
    "    origin = 'https://www.dropbox.com/s/or7s6zo038cc01v/seqDigits.pkl?dl=1'    \n",
    "    if not os.path.exists(fpath):\n",
    "        print(\"Downloading data\")\n",
    "        class ProgressTracker(object):\n",
    "              progbar = None\n",
    "\n",
    "        def dl_progress(count, block_size, total_size):\n",
    "            if ProgressTracker.progbar is None:\n",
    "                if total_size == -1:\n",
    "                    total_size = None\n",
    "                ProgressTracker.progbar = Progbar(total_size)\n",
    "            else:\n",
    "                ProgressTracker.progbar.update(count * block_size)\n",
    "\n",
    "        urlretrieve(origin, fpath, dl_progress)\n",
    "\n",
    "fpath = './seqDigits.pkl'\n",
    "download_data()\n",
    "\n",
    "# load data from a pickle file\n",
    "(x_train, y_train), (x_test, y_test) = pickle.load(open(fpath, 'rb'))"
   ]
  },
  {
   "cell_type": "code",
   "execution_count": 27,
   "metadata": {},
   "outputs": [],
   "source": [
    "(x_train, y_train), (x_test, y_test) = pickle.load(open(fpath, 'rb'))\n",
    "x_train = x_train[:1000]\n",
    "y_train = y_train[:1000]"
   ]
  },
  {
   "cell_type": "code",
   "execution_count": 3,
   "metadata": {},
   "outputs": [
    {
     "name": "stdout",
     "output_type": "stream",
     "text": [
      "7101 1861 952\n",
      "(7101, 28, 952) (7101, 97)\n"
     ]
    }
   ],
   "source": [
    "from keras.preprocessing import sequence\n",
    "import numpy as np\n",
    "\n",
    "nb_labels = 10 # number of labels (10, this is digits)\n",
    "batch_size = 32 # size of the batch that are considered\n",
    "padding_value = 255 # value for padding input observations\n",
    "nb_epochs = 10 # number of training epochs\n",
    "nb_train = len(x_train)\n",
    "nb_test = len(x_test)\n",
    "nb_features = len(x_train[0][0])\n",
    "\n",
    "print(nb_train, nb_test, nb_features)\n",
    "\n",
    "\n",
    "# create list of input lengths\n",
    "x_train_len = np.asarray([len(x_train[i]) for i in range(nb_train)])\n",
    "x_test_len = np.asarray([len(x_test[i]) for i in range(nb_test)])\n",
    "y_train_len = np.asarray([len(y_train[i]) for i in range(nb_train)])\n",
    "y_test_len = np.asarray([len(y_test[i]) for i in range(nb_test)])\n",
    "\n",
    "# pad inputs\n",
    "x_train_pad = sequence.pad_sequences(x_train, value=float(padding_value), dtype='float32',\n",
    "                                         padding=\"post\", truncating='post')\n",
    "x_test_pad = sequence.pad_sequences(x_test, value=float(padding_value), dtype='float32',\n",
    "                                        padding=\"post\", truncating='post')\n",
    "y_train_pad = sequence.pad_sequences(y_train, value=float(nb_labels),\n",
    "                                         dtype='float32', padding=\"post\")\n",
    "y_test_pad = sequence.pad_sequences(y_test, value=float(nb_labels),\n",
    "                                        dtype='float32', padding=\"post\")\n",
    "\n",
    "print(np.shape(x_train_pad), np.shape(y_train_pad))"
   ]
  },
  {
   "cell_type": "code",
   "execution_count": 29,
   "metadata": {},
   "outputs": [
    {
     "name": "stdout",
     "output_type": "stream",
     "text": [
      "Network parameters:  28 10 255\n"
     ]
    }
   ],
   "source": [
    "from keras.layers import TimeDistributed, Activation, Dense, Input, Bidirectional, LSTM, Masking, GaussianNoise\n",
    "\n",
    "def create_network(nb_features, nb_labels, padding_value):\n",
    "\n",
    "    # Define the network architecture\n",
    "    input_data = Input(name='input', shape=(None, nb_features)) # nb_features = image height\n",
    "\n",
    "    masking = Masking(mask_value=padding_value)(input_data)\n",
    "    noise = GaussianNoise(0.01)(masking)\n",
    "    blstm = Bidirectional(LSTM(128, return_sequences=True, dropout=0.1))(noise)\n",
    "    blstm = Bidirectional(LSTM(128, return_sequences=True, dropout=0.1))(blstm)\n",
    "    blstm = Bidirectional(LSTM(128, return_sequences=True, dropout=0.1))(blstm)\n",
    "\n",
    "    dense = TimeDistributed(Dense(nb_labels + 1, name=\"dense\"))(blstm)\n",
    "    outrnn = Activation('softmax', name='softmax')(dense)\n",
    "\n",
    "    network = CTCModel([input_data], [outrnn])\n",
    "    network.compile(Adam(lr=0.0001))\n",
    "\n",
    "    return network\n",
    "\n",
    "\n",
    "print(\"Network parameters: \", nb_features, nb_labels, padding_value)\n",
    "\n",
    "# define a recurrent network using CTCModel\n",
    "network = create_network(nb_features, nb_labels, padding_value)"
   ]
  },
  {
   "cell_type": "code",
   "execution_count": 30,
   "metadata": {},
   "outputs": [
    {
     "name": "stdout",
     "output_type": "stream",
     "text": [
      "Model: \"functional_35\"\n",
      "__________________________________________________________________________________________________\n",
      "Layer (type)                    Output Shape         Param #     Connected to                     \n",
      "==================================================================================================\n",
      "input (InputLayer)              [(None, None, 28)]   0                                            \n",
      "__________________________________________________________________________________________________\n",
      "masking_2 (Masking)             (None, None, 28)     0           input[0][0]                      \n",
      "__________________________________________________________________________________________________\n",
      "gaussian_noise_2 (GaussianNoise (None, None, 28)     0           masking_2[0][0]                  \n",
      "__________________________________________________________________________________________________\n",
      "bidirectional_5 (Bidirectional) (None, None, 256)    160768      gaussian_noise_2[0][0]           \n",
      "__________________________________________________________________________________________________\n",
      "bidirectional_6 (Bidirectional) (None, None, 256)    394240      bidirectional_5[0][0]            \n",
      "__________________________________________________________________________________________________\n",
      "bidirectional_7 (Bidirectional) (None, None, 256)    394240      bidirectional_6[0][0]            \n",
      "__________________________________________________________________________________________________\n",
      "time_distributed_4 (TimeDistrib (None, None, 11)     2827        bidirectional_7[0][0]            \n",
      "__________________________________________________________________________________________________\n",
      "softmax (Activation)            (None, None, 11)     0           time_distributed_4[0][0]         \n",
      "__________________________________________________________________________________________________\n",
      "labels (InputLayer)             [(None, None)]       0                                            \n",
      "__________________________________________________________________________________________________\n",
      "input_length (InputLayer)       [(None, 1)]          0                                            \n",
      "__________________________________________________________________________________________________\n",
      "label_length (InputLayer)       [(None, 1)]          0                                            \n",
      "__________________________________________________________________________________________________\n",
      "CTCloss (Lambda)                (None, 1)            0           softmax[0][0]                    \n",
      "                                                                 labels[0][0]                     \n",
      "                                                                 input_length[0][0]               \n",
      "                                                                 label_length[0][0]               \n",
      "==================================================================================================\n",
      "Total params: 952,075\n",
      "Trainable params: 952,075\n",
      "Non-trainable params: 0\n",
      "__________________________________________________________________________________________________\n",
      "None\n",
      "Epoch 1/10\n",
      "32/32 [==============================] - 28s 866ms/step - loss: 79.5883\n",
      "Epoch 2/10\n",
      "32/32 [==============================] - 24s 750ms/step - loss: 8.9218\n",
      "Epoch 3/10\n",
      "32/32 [==============================] - 25s 786ms/step - loss: 8.5861\n",
      "Epoch 4/10\n",
      "32/32 [==============================] - 25s 788ms/step - loss: 8.4569\n",
      "Epoch 5/10\n",
      "32/32 [==============================] - 23s 717ms/step - loss: 8.4144\n",
      "Epoch 6/10\n",
      "32/32 [==============================] - 23s 703ms/step - loss: 8.3833\n",
      "Epoch 7/10\n",
      "32/32 [==============================] - 23s 727ms/step - loss: 8.3550\n",
      "Epoch 8/10\n",
      "32/32 [==============================] - 25s 775ms/step - loss: 8.3304\n",
      "Epoch 9/10\n",
      "32/32 [==============================] - 25s 779ms/step - loss: 8.2868\n",
      "Epoch 10/10\n",
      "32/32 [==============================] - 25s 793ms/step - loss: 8.2399\n"
     ]
    },
    {
     "data": {
      "text/plain": [
       "<tensorflow.python.keras.callbacks.History at 0x7f67a70067d0>"
      ]
     },
     "execution_count": 30,
     "metadata": {},
     "output_type": "execute_result"
    }
   ],
   "source": [
    "print(network.summary())\n",
    "\n",
    "# CTC training\n",
    "network.fit(x=[x_train_pad, y_train_pad, x_train_len, y_train_len], y=np.zeros(nb_train), \\\n",
    "                batch_size=batch_size, epochs=nb_epochs)"
   ]
  },
  {
   "cell_type": "code",
   "execution_count": 20,
   "metadata": {},
   "outputs": [
    {
     "name": "stdout",
     "output_type": "stream",
     "text": [
      "32/32 [==============================] - 9s 267ms/step\n",
      "Prediction : []  -- Label :  [3. 3. 1. 4.]\n",
      "Prediction : []  -- Label :  [1. 1.]\n",
      "Prediction : []  -- Label :  [0. 7. 2.]\n",
      "Prediction : []  -- Label :  [6. 4.]\n",
      "Prediction : []  -- Label :  [5. 8.]\n",
      "Prediction : []  -- Label :  [0. 6. 9.]\n",
      "Prediction : []  -- Label :  [6. 8. 6. 6.]\n",
      "Prediction : []  -- Label :  [4. 1.]\n",
      "Prediction : []  -- Label :  [8. 4.]\n",
      "Prediction : []  -- Label :  [2. 3. 3. 1.]\n"
     ]
    }
   ],
   "source": [
    "# Evaluation: loss, label error rate and sequence error rate are requested\n",
    "eval = network.evaluate(x=[x_test_pad, y_test_pad, x_test_len, y_test_len],\\\n",
    "                            batch_size=batch_size, metrics=['loss', 'ler', 'ser'])\n",
    "\n",
    "\n",
    "# predict label sequences\n",
    "pred = network.predict([x_test_pad, x_test_len], batch_size=batch_size, max_value=padding_value)\n",
    "for i in range(10):  # print the 10 first predictions\n",
    "    print(\"Prediction :\", [j for j in pred[i] if j!=-1], \" -- Label : \", y_test[i]) # "
   ]
  },
  {
   "cell_type": "code",
   "execution_count": 58,
   "metadata": {},
   "outputs": [
    {
     "name": "stdout",
     "output_type": "stream",
     "text": [
      "(1000, 112, 28)\n"
     ]
    },
    {
     "data": {
      "text/plain": [
       "<matplotlib.image.AxesImage at 0x7f2125056090>"
      ]
     },
     "execution_count": 58,
     "metadata": {},
     "output_type": "execute_result"
    },
    {
     "data": {
      "image/png": "[encoded data removed]",
      "text/plain": [
       "<Figure size 432x288 with 1 Axes>"
      ]
     },
     "metadata": {
      "needs_background": "light"
     },
     "output_type": "display_data"
    }
   ],
   "source": [
    "print(x_train_pad.shape)\n",
    "plt.imshow(x_train_pad[90])"
   ]
  },
  {
   "cell_type": "code",
   "execution_count": null,
   "metadata": {},
   "outputs": [],
   "source": []
  },
  {
   "cell_type": "code",
   "execution_count": null,
   "metadata": {},
   "outputs": [],
   "source": []
  }
 ],
 "metadata": {
  "kernelspec": {
   "display_name": "Python 3",
   "language": "python",
   "name": "python3"
  },
  "language_info": {
   "codemirror_mode": {
    "name": "ipython",
    "version": 3
   },
   "file_extension": ".py",
   "mimetype": "text/x-python",
   "name": "python",
   "nbconvert_exporter": "python",
   "pygments_lexer": "ipython3",
   "version": "3.7.9"
  }
 },
 "nbformat": 4,
 "nbformat_minor": 4
}
