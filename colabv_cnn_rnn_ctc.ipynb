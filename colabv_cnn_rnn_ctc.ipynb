{
  "nbformat": 4,
  "nbformat_minor": 0,
  "metadata": {
    "kernelspec": {
      "display_name": "Python 3",
      "language": "python",
      "name": "python3"
    },
    "language_info": {
      "codemirror_mode": {
        "name": "ipython",
        "version": 3
      },
      "file_extension": ".py",
      "mimetype": "text/x-python",
      "name": "python",
      "nbconvert_exporter": "python",
      "pygments_lexer": "ipython3",
      "version": "3.7.9"
    },
    "colab": {
      "name": "colabv_cnn_rnn_ctc.ipynb",
      "provenance": [],
      "collapsed_sections": [],
      "toc_visible": true
    },
    "accelerator": "GPU"
  },
  "cells": [
    {
      "cell_type": "code",
      "metadata": {
        "colab": {
          "base_uri": "https://localhost:8080/"
        },
        "id": "ibxDn0gaUmF2",
        "outputId": "f5c008a8-20e0-48a4-9813-dd811c653d41"
      },
      "source": [
        "from google.colab import drive\n",
        "drive.mount('/content/drive', force_remount=False)"
      ],
      "execution_count": 1,
      "outputs": [
        {
          "output_type": "stream",
          "text": [
            "Drive already mounted at /content/drive; to attempt to forcibly remount, call drive.mount(\"/content/drive\", force_remount=True).\n"
          ],
          "name": "stdout"
        }
      ]
    },
    {
      "cell_type": "code",
      "metadata": {
        "colab": {
          "base_uri": "https://localhost:8080/"
        },
        "id": "_KZm657xUT1-",
        "outputId": "6e5fb4e0-01e3-406f-ec5b-92fff66b3385"
      },
      "source": [
        "'''\n",
        "Author       : Aditya Jain\n",
        "Date Started : This notebook was created on 2nd December, 2020\n",
        "About        : Implementing CNN+RNN+CTC\n",
        "'''\n",
        "!pip install editdistance\n",
        "!pip install comet-ml\n",
        "# import comet_ml at the top of your file\n",
        "from comet_ml import Experiment\n",
        "\n",
        "# Create an experiment with your api key:\n",
        "experiment = Experiment(\n",
        "    api_key=\"epeaAhyRcHSkn92H4kusmbX8k\",\n",
        "    project_name=\"ctc-lfd\",\n",
        "    workspace=\"adityajain07\",\n",
        "    log_code=\"True\"\n",
        ")\n",
        "experiment.set_code()\n",
        "experiment.add_tag('4_Train and Test on Imitation Videos_confusion')"
      ],
      "execution_count": 23,
      "outputs": [
        {
          "output_type": "stream",
          "text": [
            "Requirement already satisfied: editdistance in /usr/local/lib/python3.6/dist-packages (0.5.3)\n",
            "Requirement already satisfied: comet-ml in /usr/local/lib/python3.6/dist-packages (3.3.2)\n",
            "Requirement already satisfied: dulwich>=0.20.6; python_version >= \"3.0\" in /usr/local/lib/python3.6/dist-packages (from comet-ml) (0.20.18)\n",
            "Requirement already satisfied: requests-toolbelt>=0.8.0 in /usr/local/lib/python3.6/dist-packages (from comet-ml) (0.9.1)\n",
            "Requirement already satisfied: wrapt>=1.11.2 in /usr/local/lib/python3.6/dist-packages (from comet-ml) (1.12.1)\n",
            "Requirement already satisfied: jsonschema!=3.1.0,>=2.6.0 in /usr/local/lib/python3.6/dist-packages (from comet-ml) (2.6.0)\n",
            "Requirement already satisfied: six in /usr/local/lib/python3.6/dist-packages (from comet-ml) (1.15.0)\n",
            "Requirement already satisfied: requests>=2.18.4 in /usr/local/lib/python3.6/dist-packages (from comet-ml) (2.23.0)\n",
            "Requirement already satisfied: nvidia-ml-py3>=7.352.0 in /usr/local/lib/python3.6/dist-packages (from comet-ml) (7.352.0)\n",
            "Requirement already satisfied: everett[ini]>=1.0.1; python_version >= \"3.0\" in /usr/local/lib/python3.6/dist-packages (from comet-ml) (1.0.3)\n",
            "Requirement already satisfied: wurlitzer>=1.0.2 in /usr/local/lib/python3.6/dist-packages (from comet-ml) (2.0.1)\n",
            "Requirement already satisfied: websocket-client>=0.55.0 in /usr/local/lib/python3.6/dist-packages (from comet-ml) (0.57.0)\n",
            "Requirement already satisfied: netifaces>=0.10.7 in /usr/local/lib/python3.6/dist-packages (from comet-ml) (0.10.9)\n",
            "Requirement already satisfied: certifi in /usr/local/lib/python3.6/dist-packages (from dulwich>=0.20.6; python_version >= \"3.0\"->comet-ml) (2020.12.5)\n",
            "Requirement already satisfied: urllib3>=1.24.1 in /usr/local/lib/python3.6/dist-packages (from dulwich>=0.20.6; python_version >= \"3.0\"->comet-ml) (1.24.3)\n",
            "Requirement already satisfied: idna<3,>=2.5 in /usr/local/lib/python3.6/dist-packages (from requests>=2.18.4->comet-ml) (2.10)\n",
            "Requirement already satisfied: chardet<4,>=3.0.2 in /usr/local/lib/python3.6/dist-packages (from requests>=2.18.4->comet-ml) (3.0.4)\n",
            "Requirement already satisfied: configobj; extra == \"ini\" in /usr/local/lib/python3.6/dist-packages (from everett[ini]>=1.0.1; python_version >= \"3.0\"->comet-ml) (5.0.6)\n"
          ],
          "name": "stdout"
        },
        {
          "output_type": "stream",
          "text": [
            "COMET INFO: Experiment is live on comet.ml https://www.comet.ml/adityajain07/ctc-lfd/3e262eb6aa1c4f1c9a3bb8568a7d174a\n",
            "\n"
          ],
          "name": "stderr"
        }
      ]
    },
    {
      "cell_type": "code",
      "metadata": {
        "id": "mxluWsGCUT2G",
        "colab": {
          "base_uri": "https://localhost:8080/"
        },
        "outputId": "a00cadfd-eb8b-4ac3-c568-e9e99823a33f"
      },
      "source": [
        "%load_ext autoreload\n",
        "%autoreload 2\n",
        "\n",
        "from tensorflow import keras\n",
        "from tensorflow.keras.layers import Dropout, Dense, Input, Reshape, TimeDistributed, Lambda, LSTM, Bidirectional, Conv2D, MaxPooling2D, Flatten\n",
        "import tensorflow.keras.backend as K\n",
        "from tensorflow.keras.models import Model \n",
        "from tensorflow.keras.utils import to_categorical\n",
        "import tensorflow as tf\n",
        "from keras.preprocessing.sequence import pad_sequences\n",
        "\n",
        "import numpy as np\n",
        "import pickle\n",
        "from sklearn.model_selection import train_test_split\n",
        "\n",
        "import datetime\n",
        "from keras.callbacks import ModelCheckpoint\n",
        "import editdistance\n",
        "\n",
        "\n",
        "# import inference\n",
        "import cv2\n",
        "\n",
        "HOST_DIR = \"/content/drive/My Drive/TCS FullTime Work/LfD/Liquid_Pouring/TADL-II/CTC_Code/\""
      ],
      "execution_count": 24,
      "outputs": [
        {
          "output_type": "stream",
          "text": [
            "The autoreload extension is already loaded. To reload it, use:\n",
            "  %reload_ext autoreload\n"
          ],
          "name": "stdout"
        }
      ]
    },
    {
      "cell_type": "code",
      "metadata": {
        "id": "QP3KjUEFVgrK"
      },
      "source": [
        "import sys\n",
        "sys.path.append(HOST_DIR)\n",
        "import inference"
      ],
      "execution_count": 25,
      "outputs": []
    },
    {
      "cell_type": "markdown",
      "metadata": {
        "id": "wPtxhoPGUT2H"
      },
      "source": [
        "#### Importing MIME Data"
      ]
    },
    {
      "cell_type": "code",
      "metadata": {
        "colab": {
          "base_uri": "https://localhost:8080/"
        },
        "id": "zqV4Q0qeUT2I",
        "outputId": "7198f86d-5fa9-422d-8f38-2569529c533e"
      },
      "source": [
        "WRITE_DIR   = HOST_DIR + \"saved_model/\"\n",
        "DTSTR       = datetime.datetime.now()\n",
        "DTSTR       = DTSTR.strftime(\"%Y-%m-%d-%H-%M\")\n",
        "\n",
        "# data_read  = pickle.load(open(\"/home/aditya/Dropbox/LearningfromDemons/ctc_data/MIME_full.pickle\",\"rb\"))\n",
        "data_read  = pickle.load(open(HOST_DIR + \"MIME_full_v2.pickle\", \"rb\"))\n",
        "\n",
        "image_data = data_read['data_image']\n",
        "labels     = data_read['data_label']\n",
        "prim_map   = data_read['primitive_map']\n",
        "label_map  = data_read['label_map']\n",
        "\n",
        "labels  = pad_sequences(labels, padding='post', value = 0)  # making sure all labels are of equal length\n",
        "\n",
        "print(image_data.shape)\n",
        "print(labels.shape)\n",
        "print(prim_map)\n",
        "print(label_map)\n",
        "\n",
        "# x_train, x_test, y_train, y_test = train_test_split(image_data, labels, test_size=0.2, random_state=43)  \n",
        "# note: passing a value to random_state produces the exact split every time\n",
        "x_train   = image_data\n",
        "y_train   = labels\n"
      ],
      "execution_count": 26,
      "outputs": [
        {
          "output_type": "stream",
          "text": [
            "(4003, 30, 800)\n",
            "(4003, 7)\n",
            "{1: 'Reach', 2: 'Tilt', 3: 'Retract', 4: 'Grasp', 5: 'Release', 6: 'Displace', 7: 'Stir', 8: 'Wipe', 9: 'Press', 10: 'Rotate'}\n",
            "{'Push': [1, 1, 3], 'Pour': [1, 4, 1, 2, 1, 5, 3], 'Pick': [1, 4, 1, 1, 5, 3], 'Stack': [1, 4, 1, 5, 3], 'Place': [1, 4, 1, 5, 3], 'Mix': [1, 4, 1, 7, 1, 5, 3], 'Clean': [1, 4, 8, 5, 3], 'Rotate': [1, 4, 10, 5, 3], 'Poke': [1, 9, 3]}\n"
          ],
          "name": "stdout"
        }
      ]
    },
    {
      "cell_type": "code",
      "metadata": {
        "id": "jYjQsmCG2I5E"
      },
      "source": [
        "# Case 1: Train on MIME, Test on Self Data\n",
        "test_data = pickle.load(open(HOST_DIR + \"MIME_self_v2.pickle\", \"rb\"))\n",
        "\n",
        "x_test    = test_data['data_image']\n",
        "y_test    = pad_sequences(test_data['data_label'], padding='post', value = 0)  # making sure all labels are of equal length"
      ],
      "execution_count": null,
      "outputs": []
    },
    {
      "cell_type": "code",
      "metadata": {
        "id": "k08hyvXQnBd4"
      },
      "source": [
        "# [RUN ONLY IF NEEDED] Case 2: Mixing the two datasets \n",
        "\n",
        "final_data  = np.concatenate([x_train, x_test])\n",
        "final_label = np.concatenate([y_train, y_test])\n",
        "\n",
        "x_train, x_test, y_train, y_test = train_test_split(final_data, final_label, test_size=0.2, random_state=43)"
      ],
      "execution_count": null,
      "outputs": []
    },
    {
      "cell_type": "code",
      "metadata": {
        "id": "_0HGazFO1v7O"
      },
      "source": [
        "# [RUN ONLY IF NEEDED] Case 3: Testing on Imitation Test Videos\n",
        "test_data = pickle.load(open(HOST_DIR + \"Imitation_3rdP_Test.pickle\", \"rb\"))\n",
        "\n",
        "x_test    = test_data['data_image']\n",
        "y_test    = pad_sequences(test_data['data_label'], padding='post', value = 0)  # making sure all labels are of equal length"
      ],
      "execution_count": null,
      "outputs": []
    },
    {
      "cell_type": "code",
      "metadata": {
        "id": "z97OkgwrPjMs"
      },
      "source": [
        "# [RUN ONLY IF NEEDED] Case 4: Training and Testing on Imitation Test Videos\n",
        "test_data = pickle.load(open(HOST_DIR + \"Imitation_3rdP_Test.pickle\", \"rb\"))\n",
        "\n",
        "data    = test_data['data_image']\n",
        "label    = pad_sequences(test_data['data_label'], padding='post', value = 0)  # making sure all labels are of equal length\n",
        "\n",
        "x_train, x_test, y_train, y_test = train_test_split(data, label, test_size=0.2, random_state=43)"
      ],
      "execution_count": 27,
      "outputs": []
    },
    {
      "cell_type": "code",
      "metadata": {
        "colab": {
          "base_uri": "https://localhost:8080/"
        },
        "id": "jJMXpIoHidhy",
        "outputId": "e6b5e645-d5bb-42f8-923a-c60e556afc89"
      },
      "source": [
        "print(\"Training Data: \", x_train.shape, y_train.shape)\n",
        "print(\"Testing Data: \", x_test.shape, y_test.shape)\n",
        "\n",
        "no_classes    = len(prim_map)+1      # one extra label bcz of padding\n",
        "max_label_len = labels.shape[-1]\n",
        "\n",
        "training_pts  = int(x_train.shape[0])\n",
        "test_pts      = int(x_test.shape[0])\n",
        "\n",
        "print(\"Total classes of primitives: \", no_classes)\n",
        "print(\"Max label length: \", max_label_len)\n",
        "\n",
        "print(\"Total training points: \", training_pts)\n",
        "print(\"Total test points: \", test_pts)"
      ],
      "execution_count": 28,
      "outputs": [
        {
          "output_type": "stream",
          "text": [
            "Training Data:  (96, 30, 800) (96, 7)\n",
            "Testing Data:  (24, 30, 800) (24, 7)\n",
            "Total classes of primitives:  11\n",
            "Max label length:  7\n",
            "Total training points:  96\n",
            "Total test points:  24\n"
          ],
          "name": "stdout"
        }
      ]
    },
    {
      "cell_type": "markdown",
      "metadata": {
        "id": "ugYk6ljzUT2J"
      },
      "source": [
        "#### Model Architecture"
      ]
    },
    {
      "cell_type": "code",
      "metadata": {
        "colab": {
          "base_uri": "https://localhost:8080/"
        },
        "id": "hDbLCiQHUT2J",
        "outputId": "7b65a81c-1e57-42b7-8599-3623089644fd"
      },
      "source": [
        "#### Doing Here\n",
        "\n",
        "image_shape = x_train.shape[1:]        # the image shape\n",
        "no_channels = 1                        # no of channels in the image, 3 in case of RGB\n",
        "print(image_shape)\n",
        "print(type(image_shape[0]))\n",
        "\n",
        "# architecture is defined below\n",
        "\n",
        "inputs     = Input(shape=image_shape)\n",
        "reshape1   = Reshape((image_shape[0], image_shape[1], 1))(inputs)\n",
        "conv_1     = Conv2D(32, (3,3), activation = 'relu', padding='same')(reshape1)\n",
        "max_pool1  = MaxPooling2D(pool_size=(2, 2))(conv_1)\n",
        "conv_2     = Conv2D(64, (3,3), activation = 'relu', padding='same')(max_pool1)\n",
        "max_pool2  = MaxPooling2D(pool_size=(2, 2))(conv_2)\n",
        "conv_3     = Conv2D(64, (3,3), activation = 'relu', padding='same')(max_pool2)\n",
        "max_pool3  = MaxPooling2D(pool_size=(2, 2))(conv_3)\n",
        "conv_4     = Conv2D(64, (3,3), activation = 'relu', padding='same')(max_pool3)\n",
        "max_pool4  = MaxPooling2D(pool_size=(2, 2))(conv_4)\n",
        "squeezed   = Lambda(lambda x: K.squeeze(x, 1))(max_pool4)\n",
        "# reshape    = Reshape(target_shape=(int(image_shape[0]/8), int(image_shape[1]/8*64)))(max_pool3)\n",
        "# dense1     = Dense(64)(reshape)                                                  # this dense helps reduce no of params\n",
        "blstm1     = Bidirectional(LSTM(64, return_sequences=True))(squeezed)\n",
        "blstm2     = Bidirectional(LSTM(128, return_sequences=True))(blstm1)\n",
        "outputs    = Dense(no_classes+1, activation=\"softmax\")(blstm2)\n",
        "\n",
        "\n",
        "model_arch = Model(inputs, outputs)           # for viz the model architecture\n",
        "model_arch.summary()"
      ],
      "execution_count": 29,
      "outputs": [
        {
          "output_type": "stream",
          "text": [
            "(30, 800)\n",
            "<class 'int'>\n",
            "Model: \"model_2\"\n",
            "_________________________________________________________________\n",
            "Layer (type)                 Output Shape              Param #   \n",
            "=================================================================\n",
            "input_2 (InputLayer)         [(None, 30, 800)]         0         \n",
            "_________________________________________________________________\n",
            "reshape_1 (Reshape)          (None, 30, 800, 1)        0         \n",
            "_________________________________________________________________\n",
            "conv2d_4 (Conv2D)            (None, 30, 800, 32)       320       \n",
            "_________________________________________________________________\n",
            "max_pooling2d_4 (MaxPooling2 (None, 15, 400, 32)       0         \n",
            "_________________________________________________________________\n",
            "conv2d_5 (Conv2D)            (None, 15, 400, 64)       18496     \n",
            "_________________________________________________________________\n",
            "max_pooling2d_5 (MaxPooling2 (None, 7, 200, 64)        0         \n",
            "_________________________________________________________________\n",
            "conv2d_6 (Conv2D)            (None, 7, 200, 64)        36928     \n",
            "_________________________________________________________________\n",
            "max_pooling2d_6 (MaxPooling2 (None, 3, 100, 64)        0         \n",
            "_________________________________________________________________\n",
            "conv2d_7 (Conv2D)            (None, 3, 100, 64)        36928     \n",
            "_________________________________________________________________\n",
            "max_pooling2d_7 (MaxPooling2 (None, 1, 50, 64)         0         \n",
            "_________________________________________________________________\n",
            "lambda_1 (Lambda)            (None, 50, 64)            0         \n",
            "_________________________________________________________________\n",
            "bidirectional_2 (Bidirection (None, 50, 128)           66048     \n",
            "_________________________________________________________________\n",
            "bidirectional_3 (Bidirection (None, 50, 256)           263168    \n",
            "_________________________________________________________________\n",
            "dense_1 (Dense)              (None, 50, 12)            3084      \n",
            "=================================================================\n",
            "Total params: 424,972\n",
            "Trainable params: 424,972\n",
            "Non-trainable params: 0\n",
            "_________________________________________________________________\n"
          ],
          "name": "stdout"
        }
      ]
    },
    {
      "cell_type": "markdown",
      "metadata": {
        "id": "ShSw8bfBUT2K"
      },
      "source": [
        "#### Loss Function"
      ]
    },
    {
      "cell_type": "code",
      "metadata": {
        "id": "C9MV9DphUT2K"
      },
      "source": [
        "labels       = Input(name='the_labels', shape=[max_label_len], dtype='float32')\n",
        "input_length = Input(name='input_length', shape=[1], dtype='int64')\n",
        "label_length = Input(name='label_length', shape=[1], dtype='int64')\n",
        "\n",
        "def ctc_lambda_func(args):\n",
        "    y_pred, labels, input_length, label_length = args\n",
        " \n",
        "    return K.ctc_batch_cost(labels, y_pred, input_length, label_length)\n",
        " \n",
        "\n",
        "loss_out = Lambda(ctc_lambda_func, output_shape=(1,), name='ctc')([outputs, labels, input_length, label_length])\n",
        "model = Model(inputs=[inputs, labels, input_length, label_length], outputs=loss_out)\n",
        "\n",
        "model.compile(loss={'ctc': lambda y_true, y_pred: y_pred}, optimizer = 'adam')"
      ],
      "execution_count": 30,
      "outputs": []
    },
    {
      "cell_type": "code",
      "metadata": {
        "id": "6MDOj5hQUT2L"
      },
      "source": [
        "train_input_length = np.asarray([squeezed.shape[1] for i in range(training_pts)])              # the number of timesteps that go as input to LSTM layer\n",
        "train_label_length = np.asarray([max_label_len for i in range(training_pts)])\n",
        "\n",
        "test_input_length = np.asarray([squeezed.shape[1] for i in range(test_pts)])\n",
        "test_label_length = np.asarray([max_label_len for i in range(test_pts)])"
      ],
      "execution_count": 31,
      "outputs": []
    },
    {
      "cell_type": "markdown",
      "metadata": {
        "id": "7n2Wd4lNUT2L"
      },
      "source": [
        "#### Defining Callbacks for the training process"
      ]
    },
    {
      "cell_type": "code",
      "metadata": {
        "id": "UsyqMG5tUT2L"
      },
      "source": [
        "class MetricCallback(keras.callbacks.Callback):\n",
        "    '''\n",
        "    This callback calculates various metrics on training and validation data at the end of every epoch\n",
        "    \n",
        "    Arguments:\n",
        "    \n",
        "    '''\n",
        "    def __init__(self, pred_model, x_train, y_train, x_test, y_test, experiment):\n",
        "        super(MetricCallback, self).__init__()\n",
        "        self.train_acc = 0\n",
        "        self.val_acc  = 0\n",
        "        self.x_train   = x_train\n",
        "        self.y_train   = y_train\n",
        "        self.x_test    = x_test\n",
        "        self.y_test    = y_test\n",
        "        self.weights   = None\n",
        "        self.pred_model= pred_model\n",
        "\n",
        "        # final metrics of interest\n",
        "        self.train_ser = 0     # sequence error rate for training data\n",
        "        self.val_ser   = 0     # sequence error rate for validation data\n",
        "        self.train_ler = 0     # label error rate on training data\n",
        "        self.val_ler   = 0     # label error rate on validation data\n",
        "\n",
        "    \n",
        "    def on_epoch_end(self, epoch, logs=None):\n",
        "        print(\"End of epoch number: \", epoch)\n",
        "        \n",
        "        self.model.save_weights('callback_model.hdf5')\n",
        "        self.pred_model.load_weights('callback_model.hdf5')\n",
        "        \n",
        "        self.train_accuracy()\n",
        "        self.val_accuracy()\n",
        "\n",
        "        experiment.log_metric(\"train_ser\", self.train_ser)\n",
        "        experiment.log_metric(\"val_ser\", self.val_ser)\n",
        "        experiment.log_metric(\"train_ler\", self.train_ler)\n",
        "        experiment.log_metric(\"val_ler\", self.val_ler)\n",
        "\n",
        "        \n",
        "    def train_accuracy(self):\n",
        "        '''calculates accuracy on train data'''\n",
        "        train_pred = self.pred_model.predict(x_train)\n",
        "        decode_pred = K.get_value(K.ctc_decode(train_pred, input_length=np.ones(train_pred.shape[0])*train_pred.shape[1],\n",
        "                         greedy=True)[0][0])\n",
        "        \n",
        "        train_points = self.x_train.shape[0]\n",
        "        count       = 0\n",
        "\n",
        "        total_edits   = 0\n",
        "        total_lab_len = 0\n",
        "        \n",
        "        # removing all extra label or -1's induced by CTC\n",
        "        for i in range(train_points):   \n",
        "            pred_label = []  # the final label\n",
        "            \n",
        "            x = decode_pred[i]\n",
        "            for item in x:\n",
        "                if item!=-1:\n",
        "                    pred_label.append(item)\n",
        "                \n",
        "            pred_label = np.asarray(pred_label)            \n",
        "            if np.array_equal(pred_label,y_train[i]):\n",
        "                count += 1\n",
        "            \n",
        "            total_edits   += editdistance.eval(pred_label, y_train[i])\n",
        "            total_lab_len += len(y_train[i])\n",
        "        \n",
        "        self.train_acc = count/train_points*100\n",
        "        self.train_ser = 100 - self.train_acc\n",
        "        self.train_ler = total_edits/total_lab_len*100\n",
        "        \n",
        "    \n",
        "    def val_accuracy(self):\n",
        "        '''calculates accuracy on validation data'''\n",
        "        test_pred = self.pred_model.predict(x_test)\n",
        "        decode_pred = K.get_value(K.ctc_decode(test_pred, input_length=np.ones(test_pred.shape[0])*test_pred.shape[1],\n",
        "                         greedy=True)[0][0])\n",
        "        \n",
        "        test_points = self.x_test.shape[0]\n",
        "        count       = 0\n",
        "\n",
        "        total_edits   = 0\n",
        "        total_lab_len = 0\n",
        "        \n",
        "        # removing all extra label or -1's induced by CTC\n",
        "        for i in range(test_points):   \n",
        "            pred_label = []  # the final label\n",
        "            \n",
        "            x = decode_pred[i]\n",
        "            for item in x:\n",
        "                if item!=-1:\n",
        "                    pred_label.append(item)\n",
        "                \n",
        "            pred_label = np.asarray(pred_label)            \n",
        "            if np.array_equal(pred_label,y_test[i]):\n",
        "                count += 1\n",
        "\n",
        "            total_edits   += editdistance.eval(pred_label, y_test[i])\n",
        "            total_lab_len += len(y_test[i])\n",
        "        \n",
        "        self.val_acc = count/test_points*100\n",
        "        self.val_ser = 100 - self.val_acc\n",
        "        self.val_ler = total_edits/total_lab_len*100\n",
        "        \n",
        "model_save_callback = ModelCheckpoint(WRITE_DIR + \"best_model-\" + DTSTR + \".hdf5\", monitor='val_loss', verbose=1,\n",
        "    save_best_only=True, mode='auto')\n",
        "\n",
        "earlystop_callback = tf.keras.callbacks.EarlyStopping(monitor='val_loss', patience=20)  # stop training if val_loss does not improve in 10 consec episodes\n",
        "\n"
      ],
      "execution_count": 32,
      "outputs": []
    },
    {
      "cell_type": "markdown",
      "metadata": {
        "id": "5RrUExzgUT2Q"
      },
      "source": [
        "#### Training"
      ]
    },
    {
      "cell_type": "code",
      "metadata": {
        "jupyter": {
          "outputs_hidden": true
        },
        "colab": {
          "base_uri": "https://localhost:8080/"
        },
        "id": "dCGvY1QxUT2T",
        "outputId": "e9e70178-0ce4-4b0b-a045-aa9741b082f6"
      },
      "source": [
        "EPOCHS      = 200\n",
        "\n",
        "model.fit(x=[x_train, y_train, train_input_length, train_label_length], y=np.zeros(training_pts), epochs=EPOCHS,\n",
        "         validation_data = ([x_test, y_test, test_input_length, test_label_length], [np.zeros(test_pts)]),\n",
        "         callbacks=[MetricCallback(model_arch, x_train, y_train, x_test, y_test, experiment), \n",
        "         model_save_callback, earlystop_callback],\n",
        "         batch_size=32, verbose=0)"
      ],
      "execution_count": 33,
      "outputs": [
        {
          "output_type": "stream",
          "text": [
            "End of epoch number:  0\n",
            "\n",
            "Epoch 00001: val_loss improved from inf to 57.74776, saving model to /content/drive/My Drive/TCS FullTime Work/LfD/Liquid_Pouring/TADL-II/CTC_Code/saved_model/best_model-2021-02-09-11-56.hdf5\n",
            "End of epoch number:  1\n",
            "\n",
            "Epoch 00002: val_loss improved from 57.74776 to 21.11547, saving model to /content/drive/My Drive/TCS FullTime Work/LfD/Liquid_Pouring/TADL-II/CTC_Code/saved_model/best_model-2021-02-09-11-56.hdf5\n",
            "End of epoch number:  2\n",
            "\n",
            "Epoch 00003: val_loss improved from 21.11547 to 20.57434, saving model to /content/drive/My Drive/TCS FullTime Work/LfD/Liquid_Pouring/TADL-II/CTC_Code/saved_model/best_model-2021-02-09-11-56.hdf5\n",
            "End of epoch number:  3\n",
            "\n",
            "Epoch 00004: val_loss improved from 20.57434 to 15.08357, saving model to /content/drive/My Drive/TCS FullTime Work/LfD/Liquid_Pouring/TADL-II/CTC_Code/saved_model/best_model-2021-02-09-11-56.hdf5\n",
            "End of epoch number:  4\n",
            "\n",
            "Epoch 00005: val_loss did not improve from 15.08357\n",
            "End of epoch number:  5\n",
            "\n",
            "Epoch 00006: val_loss improved from 15.08357 to 13.61984, saving model to /content/drive/My Drive/TCS FullTime Work/LfD/Liquid_Pouring/TADL-II/CTC_Code/saved_model/best_model-2021-02-09-11-56.hdf5\n",
            "End of epoch number:  6\n",
            "\n",
            "Epoch 00007: val_loss did not improve from 13.61984\n",
            "End of epoch number:  7\n",
            "\n",
            "Epoch 00008: val_loss improved from 13.61984 to 12.98273, saving model to /content/drive/My Drive/TCS FullTime Work/LfD/Liquid_Pouring/TADL-II/CTC_Code/saved_model/best_model-2021-02-09-11-56.hdf5\n",
            "End of epoch number:  8\n",
            "\n",
            "Epoch 00009: val_loss improved from 12.98273 to 12.17467, saving model to /content/drive/My Drive/TCS FullTime Work/LfD/Liquid_Pouring/TADL-II/CTC_Code/saved_model/best_model-2021-02-09-11-56.hdf5\n",
            "End of epoch number:  9\n",
            "\n",
            "Epoch 00010: val_loss improved from 12.17467 to 11.84787, saving model to /content/drive/My Drive/TCS FullTime Work/LfD/Liquid_Pouring/TADL-II/CTC_Code/saved_model/best_model-2021-02-09-11-56.hdf5\n",
            "End of epoch number:  10\n",
            "\n",
            "Epoch 00011: val_loss improved from 11.84787 to 11.06395, saving model to /content/drive/My Drive/TCS FullTime Work/LfD/Liquid_Pouring/TADL-II/CTC_Code/saved_model/best_model-2021-02-09-11-56.hdf5\n",
            "End of epoch number:  11\n",
            "\n",
            "Epoch 00012: val_loss improved from 11.06395 to 10.43728, saving model to /content/drive/My Drive/TCS FullTime Work/LfD/Liquid_Pouring/TADL-II/CTC_Code/saved_model/best_model-2021-02-09-11-56.hdf5\n",
            "End of epoch number:  12\n",
            "\n",
            "Epoch 00013: val_loss improved from 10.43728 to 9.95714, saving model to /content/drive/My Drive/TCS FullTime Work/LfD/Liquid_Pouring/TADL-II/CTC_Code/saved_model/best_model-2021-02-09-11-56.hdf5\n",
            "End of epoch number:  13\n",
            "\n",
            "Epoch 00014: val_loss improved from 9.95714 to 9.54657, saving model to /content/drive/My Drive/TCS FullTime Work/LfD/Liquid_Pouring/TADL-II/CTC_Code/saved_model/best_model-2021-02-09-11-56.hdf5\n",
            "End of epoch number:  14\n",
            "\n",
            "Epoch 00015: val_loss improved from 9.54657 to 9.31937, saving model to /content/drive/My Drive/TCS FullTime Work/LfD/Liquid_Pouring/TADL-II/CTC_Code/saved_model/best_model-2021-02-09-11-56.hdf5\n",
            "End of epoch number:  15\n",
            "\n",
            "Epoch 00016: val_loss improved from 9.31937 to 8.86590, saving model to /content/drive/My Drive/TCS FullTime Work/LfD/Liquid_Pouring/TADL-II/CTC_Code/saved_model/best_model-2021-02-09-11-56.hdf5\n",
            "End of epoch number:  16\n",
            "\n",
            "Epoch 00017: val_loss improved from 8.86590 to 8.57385, saving model to /content/drive/My Drive/TCS FullTime Work/LfD/Liquid_Pouring/TADL-II/CTC_Code/saved_model/best_model-2021-02-09-11-56.hdf5\n",
            "End of epoch number:  17\n",
            "\n",
            "Epoch 00018: val_loss improved from 8.57385 to 8.37443, saving model to /content/drive/My Drive/TCS FullTime Work/LfD/Liquid_Pouring/TADL-II/CTC_Code/saved_model/best_model-2021-02-09-11-56.hdf5\n",
            "End of epoch number:  18\n",
            "\n",
            "Epoch 00019: val_loss improved from 8.37443 to 8.08063, saving model to /content/drive/My Drive/TCS FullTime Work/LfD/Liquid_Pouring/TADL-II/CTC_Code/saved_model/best_model-2021-02-09-11-56.hdf5\n",
            "End of epoch number:  19\n",
            "\n",
            "Epoch 00020: val_loss improved from 8.08063 to 7.81555, saving model to /content/drive/My Drive/TCS FullTime Work/LfD/Liquid_Pouring/TADL-II/CTC_Code/saved_model/best_model-2021-02-09-11-56.hdf5\n",
            "End of epoch number:  20\n",
            "\n",
            "Epoch 00021: val_loss improved from 7.81555 to 7.71812, saving model to /content/drive/My Drive/TCS FullTime Work/LfD/Liquid_Pouring/TADL-II/CTC_Code/saved_model/best_model-2021-02-09-11-56.hdf5\n",
            "End of epoch number:  21\n",
            "\n",
            "Epoch 00022: val_loss improved from 7.71812 to 7.45938, saving model to /content/drive/My Drive/TCS FullTime Work/LfD/Liquid_Pouring/TADL-II/CTC_Code/saved_model/best_model-2021-02-09-11-56.hdf5\n",
            "End of epoch number:  22\n",
            "\n",
            "Epoch 00023: val_loss improved from 7.45938 to 7.29285, saving model to /content/drive/My Drive/TCS FullTime Work/LfD/Liquid_Pouring/TADL-II/CTC_Code/saved_model/best_model-2021-02-09-11-56.hdf5\n",
            "End of epoch number:  23\n",
            "\n",
            "Epoch 00024: val_loss improved from 7.29285 to 7.17566, saving model to /content/drive/My Drive/TCS FullTime Work/LfD/Liquid_Pouring/TADL-II/CTC_Code/saved_model/best_model-2021-02-09-11-56.hdf5\n",
            "End of epoch number:  24\n",
            "\n",
            "Epoch 00025: val_loss improved from 7.17566 to 6.99281, saving model to /content/drive/My Drive/TCS FullTime Work/LfD/Liquid_Pouring/TADL-II/CTC_Code/saved_model/best_model-2021-02-09-11-56.hdf5\n",
            "End of epoch number:  25\n",
            "\n",
            "Epoch 00026: val_loss did not improve from 6.99281\n",
            "End of epoch number:  26\n",
            "\n",
            "Epoch 00027: val_loss improved from 6.99281 to 6.80124, saving model to /content/drive/My Drive/TCS FullTime Work/LfD/Liquid_Pouring/TADL-II/CTC_Code/saved_model/best_model-2021-02-09-11-56.hdf5\n",
            "End of epoch number:  27\n",
            "\n",
            "Epoch 00028: val_loss improved from 6.80124 to 6.80015, saving model to /content/drive/My Drive/TCS FullTime Work/LfD/Liquid_Pouring/TADL-II/CTC_Code/saved_model/best_model-2021-02-09-11-56.hdf5\n",
            "End of epoch number:  28\n",
            "\n",
            "Epoch 00029: val_loss improved from 6.80015 to 6.64425, saving model to /content/drive/My Drive/TCS FullTime Work/LfD/Liquid_Pouring/TADL-II/CTC_Code/saved_model/best_model-2021-02-09-11-56.hdf5\n",
            "End of epoch number:  29\n",
            "\n",
            "Epoch 00030: val_loss improved from 6.64425 to 6.51315, saving model to /content/drive/My Drive/TCS FullTime Work/LfD/Liquid_Pouring/TADL-II/CTC_Code/saved_model/best_model-2021-02-09-11-56.hdf5\n",
            "End of epoch number:  30\n",
            "\n",
            "Epoch 00031: val_loss did not improve from 6.51315\n",
            "End of epoch number:  31\n",
            "\n",
            "Epoch 00032: val_loss improved from 6.51315 to 6.31710, saving model to /content/drive/My Drive/TCS FullTime Work/LfD/Liquid_Pouring/TADL-II/CTC_Code/saved_model/best_model-2021-02-09-11-56.hdf5\n",
            "End of epoch number:  32\n",
            "\n",
            "Epoch 00033: val_loss improved from 6.31710 to 6.20119, saving model to /content/drive/My Drive/TCS FullTime Work/LfD/Liquid_Pouring/TADL-II/CTC_Code/saved_model/best_model-2021-02-09-11-56.hdf5\n",
            "End of epoch number:  33\n",
            "\n",
            "Epoch 00034: val_loss did not improve from 6.20119\n",
            "End of epoch number:  34\n",
            "\n",
            "Epoch 00035: val_loss improved from 6.20119 to 6.16715, saving model to /content/drive/My Drive/TCS FullTime Work/LfD/Liquid_Pouring/TADL-II/CTC_Code/saved_model/best_model-2021-02-09-11-56.hdf5\n",
            "End of epoch number:  35\n",
            "\n",
            "Epoch 00036: val_loss improved from 6.16715 to 6.15145, saving model to /content/drive/My Drive/TCS FullTime Work/LfD/Liquid_Pouring/TADL-II/CTC_Code/saved_model/best_model-2021-02-09-11-56.hdf5\n",
            "End of epoch number:  36\n",
            "\n",
            "Epoch 00037: val_loss improved from 6.15145 to 6.04322, saving model to /content/drive/My Drive/TCS FullTime Work/LfD/Liquid_Pouring/TADL-II/CTC_Code/saved_model/best_model-2021-02-09-11-56.hdf5\n",
            "End of epoch number:  37\n",
            "\n",
            "Epoch 00038: val_loss improved from 6.04322 to 5.88220, saving model to /content/drive/My Drive/TCS FullTime Work/LfD/Liquid_Pouring/TADL-II/CTC_Code/saved_model/best_model-2021-02-09-11-56.hdf5\n",
            "End of epoch number:  38\n",
            "\n",
            "Epoch 00039: val_loss improved from 5.88220 to 5.73763, saving model to /content/drive/My Drive/TCS FullTime Work/LfD/Liquid_Pouring/TADL-II/CTC_Code/saved_model/best_model-2021-02-09-11-56.hdf5\n",
            "End of epoch number:  39\n",
            "\n",
            "Epoch 00040: val_loss improved from 5.73763 to 5.61648, saving model to /content/drive/My Drive/TCS FullTime Work/LfD/Liquid_Pouring/TADL-II/CTC_Code/saved_model/best_model-2021-02-09-11-56.hdf5\n",
            "End of epoch number:  40\n",
            "\n",
            "Epoch 00041: val_loss did not improve from 5.61648\n",
            "End of epoch number:  41\n",
            "\n",
            "Epoch 00042: val_loss improved from 5.61648 to 5.59987, saving model to /content/drive/My Drive/TCS FullTime Work/LfD/Liquid_Pouring/TADL-II/CTC_Code/saved_model/best_model-2021-02-09-11-56.hdf5\n",
            "End of epoch number:  42\n",
            "\n",
            "Epoch 00043: val_loss improved from 5.59987 to 5.51151, saving model to /content/drive/My Drive/TCS FullTime Work/LfD/Liquid_Pouring/TADL-II/CTC_Code/saved_model/best_model-2021-02-09-11-56.hdf5\n",
            "End of epoch number:  43\n",
            "\n",
            "Epoch 00044: val_loss improved from 5.51151 to 5.47933, saving model to /content/drive/My Drive/TCS FullTime Work/LfD/Liquid_Pouring/TADL-II/CTC_Code/saved_model/best_model-2021-02-09-11-56.hdf5\n",
            "End of epoch number:  44\n",
            "\n",
            "Epoch 00045: val_loss improved from 5.47933 to 5.29972, saving model to /content/drive/My Drive/TCS FullTime Work/LfD/Liquid_Pouring/TADL-II/CTC_Code/saved_model/best_model-2021-02-09-11-56.hdf5\n",
            "End of epoch number:  45\n",
            "\n",
            "Epoch 00046: val_loss improved from 5.29972 to 5.28176, saving model to /content/drive/My Drive/TCS FullTime Work/LfD/Liquid_Pouring/TADL-II/CTC_Code/saved_model/best_model-2021-02-09-11-56.hdf5\n",
            "End of epoch number:  46\n",
            "\n",
            "Epoch 00047: val_loss improved from 5.28176 to 5.25612, saving model to /content/drive/My Drive/TCS FullTime Work/LfD/Liquid_Pouring/TADL-II/CTC_Code/saved_model/best_model-2021-02-09-11-56.hdf5\n",
            "End of epoch number:  47\n",
            "\n",
            "Epoch 00048: val_loss did not improve from 5.25612\n",
            "End of epoch number:  48\n",
            "\n",
            "Epoch 00049: val_loss improved from 5.25612 to 5.06872, saving model to /content/drive/My Drive/TCS FullTime Work/LfD/Liquid_Pouring/TADL-II/CTC_Code/saved_model/best_model-2021-02-09-11-56.hdf5\n",
            "End of epoch number:  49\n",
            "\n",
            "Epoch 00050: val_loss did not improve from 5.06872\n",
            "End of epoch number:  50\n",
            "\n",
            "Epoch 00051: val_loss did not improve from 5.06872\n",
            "End of epoch number:  51\n",
            "\n",
            "Epoch 00052: val_loss improved from 5.06872 to 4.90493, saving model to /content/drive/My Drive/TCS FullTime Work/LfD/Liquid_Pouring/TADL-II/CTC_Code/saved_model/best_model-2021-02-09-11-56.hdf5\n",
            "End of epoch number:  52\n",
            "\n",
            "Epoch 00053: val_loss improved from 4.90493 to 4.84116, saving model to /content/drive/My Drive/TCS FullTime Work/LfD/Liquid_Pouring/TADL-II/CTC_Code/saved_model/best_model-2021-02-09-11-56.hdf5\n",
            "End of epoch number:  53\n",
            "\n",
            "Epoch 00054: val_loss did not improve from 4.84116\n",
            "End of epoch number:  54\n",
            "\n",
            "Epoch 00055: val_loss improved from 4.84116 to 4.79493, saving model to /content/drive/My Drive/TCS FullTime Work/LfD/Liquid_Pouring/TADL-II/CTC_Code/saved_model/best_model-2021-02-09-11-56.hdf5\n",
            "End of epoch number:  55\n",
            "\n",
            "Epoch 00056: val_loss did not improve from 4.79493\n",
            "End of epoch number:  56\n",
            "\n",
            "Epoch 00057: val_loss did not improve from 4.79493\n",
            "End of epoch number:  57\n",
            "\n",
            "Epoch 00058: val_loss did not improve from 4.79493\n",
            "End of epoch number:  58\n",
            "\n",
            "Epoch 00059: val_loss did not improve from 4.79493\n",
            "End of epoch number:  59\n",
            "\n",
            "Epoch 00060: val_loss did not improve from 4.79493\n",
            "End of epoch number:  60\n",
            "\n",
            "Epoch 00061: val_loss did not improve from 4.79493\n",
            "End of epoch number:  61\n",
            "\n",
            "Epoch 00062: val_loss improved from 4.79493 to 4.65557, saving model to /content/drive/My Drive/TCS FullTime Work/LfD/Liquid_Pouring/TADL-II/CTC_Code/saved_model/best_model-2021-02-09-11-56.hdf5\n",
            "End of epoch number:  62\n",
            "\n",
            "Epoch 00063: val_loss improved from 4.65557 to 4.61233, saving model to /content/drive/My Drive/TCS FullTime Work/LfD/Liquid_Pouring/TADL-II/CTC_Code/saved_model/best_model-2021-02-09-11-56.hdf5\n",
            "End of epoch number:  63\n",
            "\n",
            "Epoch 00064: val_loss improved from 4.61233 to 4.55085, saving model to /content/drive/My Drive/TCS FullTime Work/LfD/Liquid_Pouring/TADL-II/CTC_Code/saved_model/best_model-2021-02-09-11-56.hdf5\n",
            "End of epoch number:  64\n",
            "\n",
            "Epoch 00065: val_loss improved from 4.55085 to 4.45341, saving model to /content/drive/My Drive/TCS FullTime Work/LfD/Liquid_Pouring/TADL-II/CTC_Code/saved_model/best_model-2021-02-09-11-56.hdf5\n",
            "End of epoch number:  65\n",
            "\n",
            "Epoch 00066: val_loss improved from 4.45341 to 4.34688, saving model to /content/drive/My Drive/TCS FullTime Work/LfD/Liquid_Pouring/TADL-II/CTC_Code/saved_model/best_model-2021-02-09-11-56.hdf5\n",
            "End of epoch number:  66\n",
            "\n",
            "Epoch 00067: val_loss improved from 4.34688 to 4.32378, saving model to /content/drive/My Drive/TCS FullTime Work/LfD/Liquid_Pouring/TADL-II/CTC_Code/saved_model/best_model-2021-02-09-11-56.hdf5\n",
            "End of epoch number:  67\n",
            "\n",
            "Epoch 00068: val_loss improved from 4.32378 to 4.26023, saving model to /content/drive/My Drive/TCS FullTime Work/LfD/Liquid_Pouring/TADL-II/CTC_Code/saved_model/best_model-2021-02-09-11-56.hdf5\n",
            "End of epoch number:  68\n",
            "\n",
            "Epoch 00069: val_loss improved from 4.26023 to 4.23904, saving model to /content/drive/My Drive/TCS FullTime Work/LfD/Liquid_Pouring/TADL-II/CTC_Code/saved_model/best_model-2021-02-09-11-56.hdf5\n",
            "End of epoch number:  69\n",
            "\n",
            "Epoch 00070: val_loss improved from 4.23904 to 4.21575, saving model to /content/drive/My Drive/TCS FullTime Work/LfD/Liquid_Pouring/TADL-II/CTC_Code/saved_model/best_model-2021-02-09-11-56.hdf5\n",
            "End of epoch number:  70\n",
            "\n",
            "Epoch 00071: val_loss improved from 4.21575 to 4.18596, saving model to /content/drive/My Drive/TCS FullTime Work/LfD/Liquid_Pouring/TADL-II/CTC_Code/saved_model/best_model-2021-02-09-11-56.hdf5\n",
            "End of epoch number:  71\n",
            "\n",
            "Epoch 00072: val_loss improved from 4.18596 to 4.05702, saving model to /content/drive/My Drive/TCS FullTime Work/LfD/Liquid_Pouring/TADL-II/CTC_Code/saved_model/best_model-2021-02-09-11-56.hdf5\n",
            "End of epoch number:  72\n",
            "\n",
            "Epoch 00073: val_loss improved from 4.05702 to 4.02424, saving model to /content/drive/My Drive/TCS FullTime Work/LfD/Liquid_Pouring/TADL-II/CTC_Code/saved_model/best_model-2021-02-09-11-56.hdf5\n",
            "End of epoch number:  73\n",
            "\n",
            "Epoch 00074: val_loss improved from 4.02424 to 3.91797, saving model to /content/drive/My Drive/TCS FullTime Work/LfD/Liquid_Pouring/TADL-II/CTC_Code/saved_model/best_model-2021-02-09-11-56.hdf5\n",
            "End of epoch number:  74\n",
            "\n",
            "Epoch 00075: val_loss did not improve from 3.91797\n",
            "End of epoch number:  75\n",
            "\n",
            "Epoch 00076: val_loss improved from 3.91797 to 3.90770, saving model to /content/drive/My Drive/TCS FullTime Work/LfD/Liquid_Pouring/TADL-II/CTC_Code/saved_model/best_model-2021-02-09-11-56.hdf5\n",
            "End of epoch number:  76\n",
            "\n",
            "Epoch 00077: val_loss improved from 3.90770 to 3.81422, saving model to /content/drive/My Drive/TCS FullTime Work/LfD/Liquid_Pouring/TADL-II/CTC_Code/saved_model/best_model-2021-02-09-11-56.hdf5\n",
            "End of epoch number:  77\n",
            "\n",
            "Epoch 00078: val_loss improved from 3.81422 to 3.77780, saving model to /content/drive/My Drive/TCS FullTime Work/LfD/Liquid_Pouring/TADL-II/CTC_Code/saved_model/best_model-2021-02-09-11-56.hdf5\n",
            "End of epoch number:  78\n",
            "\n",
            "Epoch 00079: val_loss improved from 3.77780 to 3.72232, saving model to /content/drive/My Drive/TCS FullTime Work/LfD/Liquid_Pouring/TADL-II/CTC_Code/saved_model/best_model-2021-02-09-11-56.hdf5\n",
            "End of epoch number:  79\n",
            "\n",
            "Epoch 00080: val_loss did not improve from 3.72232\n",
            "End of epoch number:  80\n",
            "\n",
            "Epoch 00081: val_loss improved from 3.72232 to 3.70761, saving model to /content/drive/My Drive/TCS FullTime Work/LfD/Liquid_Pouring/TADL-II/CTC_Code/saved_model/best_model-2021-02-09-11-56.hdf5\n",
            "End of epoch number:  81\n",
            "\n",
            "Epoch 00082: val_loss improved from 3.70761 to 3.67682, saving model to /content/drive/My Drive/TCS FullTime Work/LfD/Liquid_Pouring/TADL-II/CTC_Code/saved_model/best_model-2021-02-09-11-56.hdf5\n",
            "End of epoch number:  82\n",
            "\n",
            "Epoch 00083: val_loss improved from 3.67682 to 3.60141, saving model to /content/drive/My Drive/TCS FullTime Work/LfD/Liquid_Pouring/TADL-II/CTC_Code/saved_model/best_model-2021-02-09-11-56.hdf5\n",
            "End of epoch number:  83\n",
            "\n",
            "Epoch 00084: val_loss did not improve from 3.60141\n",
            "End of epoch number:  84\n",
            "\n",
            "Epoch 00085: val_loss did not improve from 3.60141\n",
            "End of epoch number:  85\n",
            "\n",
            "Epoch 00086: val_loss improved from 3.60141 to 3.56159, saving model to /content/drive/My Drive/TCS FullTime Work/LfD/Liquid_Pouring/TADL-II/CTC_Code/saved_model/best_model-2021-02-09-11-56.hdf5\n",
            "End of epoch number:  86\n",
            "\n",
            "Epoch 00087: val_loss improved from 3.56159 to 3.56154, saving model to /content/drive/My Drive/TCS FullTime Work/LfD/Liquid_Pouring/TADL-II/CTC_Code/saved_model/best_model-2021-02-09-11-56.hdf5\n",
            "End of epoch number:  87\n",
            "\n",
            "Epoch 00088: val_loss improved from 3.56154 to 3.45743, saving model to /content/drive/My Drive/TCS FullTime Work/LfD/Liquid_Pouring/TADL-II/CTC_Code/saved_model/best_model-2021-02-09-11-56.hdf5\n",
            "End of epoch number:  88\n",
            "\n",
            "Epoch 00089: val_loss improved from 3.45743 to 3.38553, saving model to /content/drive/My Drive/TCS FullTime Work/LfD/Liquid_Pouring/TADL-II/CTC_Code/saved_model/best_model-2021-02-09-11-56.hdf5\n",
            "End of epoch number:  89\n",
            "\n",
            "Epoch 00090: val_loss did not improve from 3.38553\n",
            "End of epoch number:  90\n",
            "\n",
            "Epoch 00091: val_loss did not improve from 3.38553\n",
            "End of epoch number:  91\n",
            "\n",
            "Epoch 00092: val_loss did not improve from 3.38553\n",
            "End of epoch number:  92\n",
            "\n",
            "Epoch 00093: val_loss did not improve from 3.38553\n",
            "End of epoch number:  93\n",
            "\n",
            "Epoch 00094: val_loss did not improve from 3.38553\n",
            "End of epoch number:  94\n",
            "\n",
            "Epoch 00095: val_loss did not improve from 3.38553\n",
            "End of epoch number:  95\n",
            "\n",
            "Epoch 00096: val_loss did not improve from 3.38553\n",
            "End of epoch number:  96\n",
            "\n",
            "Epoch 00097: val_loss did not improve from 3.38553\n",
            "End of epoch number:  97\n",
            "\n",
            "Epoch 00098: val_loss improved from 3.38553 to 3.23091, saving model to /content/drive/My Drive/TCS FullTime Work/LfD/Liquid_Pouring/TADL-II/CTC_Code/saved_model/best_model-2021-02-09-11-56.hdf5\n",
            "End of epoch number:  98\n",
            "\n",
            "Epoch 00099: val_loss did not improve from 3.23091\n",
            "End of epoch number:  99\n",
            "\n",
            "Epoch 00100: val_loss improved from 3.23091 to 3.14992, saving model to /content/drive/My Drive/TCS FullTime Work/LfD/Liquid_Pouring/TADL-II/CTC_Code/saved_model/best_model-2021-02-09-11-56.hdf5\n",
            "End of epoch number:  100\n",
            "\n",
            "Epoch 00101: val_loss did not improve from 3.14992\n",
            "End of epoch number:  101\n",
            "\n",
            "Epoch 00102: val_loss improved from 3.14992 to 2.92039, saving model to /content/drive/My Drive/TCS FullTime Work/LfD/Liquid_Pouring/TADL-II/CTC_Code/saved_model/best_model-2021-02-09-11-56.hdf5\n",
            "End of epoch number:  102\n",
            "\n",
            "Epoch 00103: val_loss improved from 2.92039 to 2.87675, saving model to /content/drive/My Drive/TCS FullTime Work/LfD/Liquid_Pouring/TADL-II/CTC_Code/saved_model/best_model-2021-02-09-11-56.hdf5\n",
            "End of epoch number:  103\n",
            "\n",
            "Epoch 00104: val_loss did not improve from 2.87675\n",
            "End of epoch number:  104\n",
            "\n",
            "Epoch 00105: val_loss did not improve from 2.87675\n",
            "End of epoch number:  105\n",
            "\n",
            "Epoch 00106: val_loss improved from 2.87675 to 2.69199, saving model to /content/drive/My Drive/TCS FullTime Work/LfD/Liquid_Pouring/TADL-II/CTC_Code/saved_model/best_model-2021-02-09-11-56.hdf5\n",
            "End of epoch number:  106\n",
            "\n",
            "Epoch 00107: val_loss improved from 2.69199 to 2.63824, saving model to /content/drive/My Drive/TCS FullTime Work/LfD/Liquid_Pouring/TADL-II/CTC_Code/saved_model/best_model-2021-02-09-11-56.hdf5\n",
            "End of epoch number:  107\n",
            "\n",
            "Epoch 00108: val_loss improved from 2.63824 to 2.51120, saving model to /content/drive/My Drive/TCS FullTime Work/LfD/Liquid_Pouring/TADL-II/CTC_Code/saved_model/best_model-2021-02-09-11-56.hdf5\n",
            "End of epoch number:  108\n",
            "\n",
            "Epoch 00109: val_loss improved from 2.51120 to 2.47557, saving model to /content/drive/My Drive/TCS FullTime Work/LfD/Liquid_Pouring/TADL-II/CTC_Code/saved_model/best_model-2021-02-09-11-56.hdf5\n",
            "End of epoch number:  109\n",
            "\n",
            "Epoch 00110: val_loss improved from 2.47557 to 2.26981, saving model to /content/drive/My Drive/TCS FullTime Work/LfD/Liquid_Pouring/TADL-II/CTC_Code/saved_model/best_model-2021-02-09-11-56.hdf5\n",
            "End of epoch number:  110\n",
            "\n",
            "Epoch 00111: val_loss did not improve from 2.26981\n",
            "End of epoch number:  111\n",
            "\n",
            "Epoch 00112: val_loss did not improve from 2.26981\n",
            "End of epoch number:  112\n",
            "\n",
            "Epoch 00113: val_loss did not improve from 2.26981\n",
            "End of epoch number:  113\n",
            "\n",
            "Epoch 00114: val_loss did not improve from 2.26981\n",
            "End of epoch number:  114\n",
            "\n",
            "Epoch 00115: val_loss did not improve from 2.26981\n",
            "End of epoch number:  115\n",
            "\n",
            "Epoch 00116: val_loss did not improve from 2.26981\n",
            "End of epoch number:  116\n",
            "\n",
            "Epoch 00117: val_loss did not improve from 2.26981\n",
            "End of epoch number:  117\n",
            "\n",
            "Epoch 00118: val_loss did not improve from 2.26981\n",
            "End of epoch number:  118\n",
            "\n",
            "Epoch 00119: val_loss improved from 2.26981 to 2.14836, saving model to /content/drive/My Drive/TCS FullTime Work/LfD/Liquid_Pouring/TADL-II/CTC_Code/saved_model/best_model-2021-02-09-11-56.hdf5\n",
            "End of epoch number:  119\n",
            "\n",
            "Epoch 00120: val_loss improved from 2.14836 to 2.02671, saving model to /content/drive/My Drive/TCS FullTime Work/LfD/Liquid_Pouring/TADL-II/CTC_Code/saved_model/best_model-2021-02-09-11-56.hdf5\n",
            "End of epoch number:  120\n",
            "\n",
            "Epoch 00121: val_loss improved from 2.02671 to 1.81143, saving model to /content/drive/My Drive/TCS FullTime Work/LfD/Liquid_Pouring/TADL-II/CTC_Code/saved_model/best_model-2021-02-09-11-56.hdf5\n",
            "End of epoch number:  121\n",
            "\n",
            "Epoch 00122: val_loss did not improve from 1.81143\n",
            "End of epoch number:  122\n",
            "\n",
            "Epoch 00123: val_loss did not improve from 1.81143\n",
            "End of epoch number:  123\n",
            "\n",
            "Epoch 00124: val_loss improved from 1.81143 to 1.62882, saving model to /content/drive/My Drive/TCS FullTime Work/LfD/Liquid_Pouring/TADL-II/CTC_Code/saved_model/best_model-2021-02-09-11-56.hdf5\n",
            "End of epoch number:  124\n",
            "\n",
            "Epoch 00125: val_loss did not improve from 1.62882\n",
            "End of epoch number:  125\n",
            "\n",
            "Epoch 00126: val_loss did not improve from 1.62882\n",
            "End of epoch number:  126\n",
            "\n",
            "Epoch 00127: val_loss did not improve from 1.62882\n",
            "End of epoch number:  127\n",
            "\n",
            "Epoch 00128: val_loss did not improve from 1.62882\n",
            "End of epoch number:  128\n",
            "\n",
            "Epoch 00129: val_loss did not improve from 1.62882\n",
            "End of epoch number:  129\n",
            "\n",
            "Epoch 00130: val_loss did not improve from 1.62882\n",
            "End of epoch number:  130\n",
            "\n",
            "Epoch 00131: val_loss did not improve from 1.62882\n",
            "End of epoch number:  131\n",
            "\n",
            "Epoch 00132: val_loss did not improve from 1.62882\n",
            "End of epoch number:  132\n",
            "\n",
            "Epoch 00133: val_loss did not improve from 1.62882\n",
            "End of epoch number:  133\n",
            "\n",
            "Epoch 00134: val_loss did not improve from 1.62882\n",
            "End of epoch number:  134\n",
            "\n",
            "Epoch 00135: val_loss did not improve from 1.62882\n",
            "End of epoch number:  135\n",
            "\n",
            "Epoch 00136: val_loss did not improve from 1.62882\n",
            "End of epoch number:  136\n",
            "\n",
            "Epoch 00137: val_loss did not improve from 1.62882\n",
            "End of epoch number:  137\n",
            "\n",
            "Epoch 00138: val_loss did not improve from 1.62882\n",
            "End of epoch number:  138\n",
            "\n",
            "Epoch 00139: val_loss did not improve from 1.62882\n",
            "End of epoch number:  139\n",
            "\n",
            "Epoch 00140: val_loss did not improve from 1.62882\n",
            "End of epoch number:  140\n",
            "\n",
            "Epoch 00141: val_loss did not improve from 1.62882\n",
            "End of epoch number:  141\n",
            "\n",
            "Epoch 00142: val_loss did not improve from 1.62882\n",
            "End of epoch number:  142\n",
            "\n",
            "Epoch 00143: val_loss did not improve from 1.62882\n",
            "End of epoch number:  143\n",
            "\n",
            "Epoch 00144: val_loss did not improve from 1.62882\n"
          ],
          "name": "stdout"
        },
        {
          "output_type": "execute_result",
          "data": {
            "text/plain": [
              "<tensorflow.python.keras.callbacks.History at 0x7fd7459b96a0>"
            ]
          },
          "metadata": {
            "tags": []
          },
          "execution_count": 33
        }
      ]
    },
    {
      "cell_type": "markdown",
      "metadata": {
        "id": "Hb80sWEcUT2T"
      },
      "source": [
        "#### Save and Load Weights"
      ]
    },
    {
      "cell_type": "code",
      "metadata": {
        "id": "dMX1EcWnUT2U"
      },
      "source": [
        "model.save_weights('first_run.hdf5')\n",
        "model_arch.load_weights('first_run.hdf5')"
      ],
      "execution_count": 34,
      "outputs": []
    },
    {
      "cell_type": "markdown",
      "metadata": {
        "id": "U5P9cWlhpPeu"
      },
      "source": [
        "#### Accuracy on a (preferably on a held-out) batch of dataset\n",
        "In this section, simply pass a self-collected or any other dataset along with labels. Returns accuracy or the inverse of SER"
      ]
    },
    {
      "cell_type": "code",
      "metadata": {
        "id": "kYX8SmnYjKz3"
      },
      "source": [
        "def convert_to_onehot(label):\n",
        "  '''\n",
        "  converts labels to its one-hot encoding\n",
        "  '''\n",
        "  dictionary = {}\n",
        "  i = 0\n",
        "  label_int_list = []\n",
        "\n",
        "  for item in label:\n",
        "    if str(item) in dictionary.keys():\n",
        "      label_int_list.append(dictionary[str(item)])\n",
        "    else:\n",
        "      dictionary[str(item)] = i\n",
        "      label_int_list.append(i)\n",
        "      i += 1\n",
        "\n",
        "  return to_categorical(label_int_list), dictionary"
      ],
      "execution_count": 35,
      "outputs": []
    },
    {
      "cell_type": "code",
      "metadata": {
        "id": "TfBSMHOdpMXx"
      },
      "source": [
        "def accuracy_on_batch(model, data, labels, experiment):  \n",
        "  pred        = model.predict(data)\n",
        "  decode_pred = K.get_value(K.ctc_decode(pred, input_length=np.ones(pred.shape[0])*pred.shape[1],\n",
        "                         greedy=True)[0][0])        \n",
        "  points      = data.shape[0]\n",
        "  count       = 0\n",
        "  pred_label_list = []\n",
        "\n",
        "  for i in range(points):          # removing all extra -1's induced by CTC\n",
        "    pred_label = []                # the final label\n",
        "            \n",
        "    x = decode_pred[i]\n",
        "    for item in x:\n",
        "      if item!=-1:\n",
        "        pred_label.append(item)\n",
        "                \n",
        "    pred_label = np.asarray(pred_label)  \n",
        "    pred_label_list.append(pred_label)          \n",
        "    \n",
        "    if np.array_equal(pred_label,labels[i]):\n",
        "      # print(labels[i])\n",
        "      count += 1            \n",
        "        \n",
        "  accuracy = count/points*100\n",
        "  actual_one_hot, dict1 = convert_to_onehot(labels)\n",
        "  pred_one_hot, dict2 = convert_to_onehot(pred_label_list)\n",
        "  experiment.log_confusion_matrix(actual_one_hot, pred_one_hot)\n",
        "\n",
        "  return accuracy, dict1"
      ],
      "execution_count": 39,
      "outputs": []
    },
    {
      "cell_type": "code",
      "metadata": {
        "colab": {
          "base_uri": "https://localhost:8080/"
        },
        "id": "CU4oAAT7sBDs",
        "outputId": "63e34013-e2ff-474a-aa44-1e3da114b0f7"
      },
      "source": [
        "weights_path = WRITE_DIR + 'best_model-2021-02-08-08-04.hdf5'\n",
        "weights_path = 'first_run.hdf5'\n",
        "model_arch.load_weights(weights_path)\n",
        "\n",
        "batch_accuracy, dict_labels = accuracy_on_batch(model_arch, x_test, y_test, experiment)\n",
        "\n",
        "print(\"The accuracy on the batch in % is: \", batch_accuracy)\n",
        "print(dict_labels)\n"
      ],
      "execution_count": 40,
      "outputs": [
        {
          "output_type": "stream",
          "text": [
            "The accuracy on the batch in % is:  0.0\n",
            "{'[1 4 8 5 3 0 0]': 0, '[1 4 1 5 3 0 0]': 1, '[1 4 1 2 1 5 3]': 2}\n"
          ],
          "name": "stdout"
        }
      ]
    },
    {
      "cell_type": "code",
      "metadata": {
        "colab": {
          "base_uri": "https://localhost:8080/"
        },
        "id": "iopehJhgpVMX",
        "outputId": "2ecdaf9c-c68f-464c-e8f0-1414e9f648f2"
      },
      "source": [
        "experiment.end()"
      ],
      "execution_count": 38,
      "outputs": [
        {
          "output_type": "stream",
          "text": [
            "COMET INFO: ---------------------------\n",
            "COMET INFO: Comet.ml Experiment Summary\n",
            "COMET INFO: ---------------------------\n",
            "COMET INFO:   Data:\n",
            "COMET INFO:     display_summary_level : 1\n",
            "COMET INFO:     url                   : https://www.comet.ml/adityajain07/ctc-lfd/3e262eb6aa1c4f1c9a3bb8568a7d174a\n",
            "COMET INFO:   Metrics [count] (min, max):\n",
            "COMET INFO:     batch_loss [144]          : (1.2460647821426392, 95.04901885986328)\n",
            "COMET INFO:     epoch_duration [144]      : (0.3190991699998449, 7.81170693099989)\n",
            "COMET INFO:     loss [144]                : (1.5106345415115356, 88.60364532470703)\n",
            "COMET INFO:     train_ler [144]           : (13.095238095238097, 100.0)\n",
            "COMET INFO:     train_ser [144]           : (65.625, 100.0)\n",
            "COMET INFO:     val_ler [144]             : (16.071428571428573, 100.0)\n",
            "COMET INFO:     val_loss [144]            : (1.6288180351257324, 57.74775695800781)\n",
            "COMET INFO:     val_ser [144]             : (70.83333333333333, 100.0)\n",
            "COMET INFO:     validate_batch_loss [144] : (1.6288180351257324, 57.74775695800781)\n",
            "COMET INFO:   Others:\n",
            "COMET INFO:     trainable_params : 424972\n",
            "COMET INFO:   Parameters:\n",
            "COMET INFO:     Adam_amsgrad       : 1\n",
            "COMET INFO:     Adam_beta_1        : 0.9\n",
            "COMET INFO:     Adam_beta_2        : 0.999\n",
            "COMET INFO:     Adam_decay         : 1\n",
            "COMET INFO:     Adam_epsilon       : 1e-07\n",
            "COMET INFO:     Adam_learning_rate : 0.001\n",
            "COMET INFO:     Adam_name          : Adam\n",
            "COMET INFO:     Optimizer          : Adam\n",
            "COMET INFO:     epochs             : 200\n",
            "COMET INFO:     steps              : 3\n",
            "COMET INFO:   Uploads:\n",
            "COMET INFO:     confusion-matrix    : 1\n",
            "COMET INFO:     environment details : 1\n",
            "COMET INFO:     filename            : 1\n",
            "COMET INFO:     installed packages  : 1\n",
            "COMET INFO:     model graph         : 1\n",
            "COMET INFO:     notebook            : 1\n",
            "COMET INFO:     os packages         : 1\n",
            "COMET INFO:     source_code         : 1\n",
            "COMET INFO: ---------------------------\n",
            "COMET INFO: Still uploading\n"
          ],
          "name": "stderr"
        }
      ]
    },
    {
      "cell_type": "markdown",
      "metadata": {
        "id": "G9jheC_KUT2U"
      },
      "source": [
        "#### Inference on a single test data"
      ]
    },
    {
      "cell_type": "code",
      "metadata": {
        "colab": {
          "base_uri": "https://localhost:8080/"
        },
        "id": "doBY4PybUT2U",
        "outputId": "b521bfc0-27fe-4e23-b7ea-78823460da8a"
      },
      "source": [
        "video_path     = \"/content/drive/My Drive/TCS FullTime Work/LfD/Liquid_Pouring/TADL-II/CTC-MIME/22dec/stacking4.avi\"\n",
        "\n",
        "# These params cannot be changed\n",
        "desired_shape  = (30, 800)\n",
        "n_frames       = 10\n",
        "down_f         = 8\n",
        "\n",
        "infer_object   = inference.Inference(video_path, n_frames, down_f, desired_shape, model_arch)\n",
        "image = infer_object.prep_data()\n",
        "predicted_out, final_out = infer_object.predict()\n",
        "\n",
        "print(\"Raw output: \", predicted_out)\n",
        "print(\"Final processed output: \", final_out)\n",
        "print('\\n')\n",
        "\n",
        "for primtive in final_out:\n",
        "    if primtive==0:\n",
        "        continue\n",
        "    else:\n",
        "        print(prim_map[primtive])"
      ],
      "execution_count": null,
      "outputs": [
        {
          "output_type": "stream",
          "text": [
            "Raw output:  [ 1  4  1  5  3  0  0 -1 -1 -1 -1 -1 -1 -1 -1 -1 -1 -1 -1 -1 -1 -1 -1 -1\n",
            " -1 -1 -1 -1 -1 -1 -1 -1 -1 -1 -1 -1 -1 -1 -1 -1 -1 -1 -1 -1 -1 -1 -1 -1\n",
            " -1 -1]\n",
            "Final processed output:  [1 4 1 5 3 0 0]\n",
            "\n",
            "\n",
            "Reach\n",
            "Grasp\n",
            "Reach\n",
            "Release\n",
            "Retract\n"
          ],
          "name": "stdout"
        }
      ]
    },
    {
      "cell_type": "markdown",
      "metadata": {
        "id": "qHEMFlbbUT2U"
      },
      "source": [
        "### Miscellaneous (Do Not Run)"
      ]
    },
    {
      "cell_type": "code",
      "metadata": {
        "id": "F-98UU8eUT2V",
        "outputId": "368fe16c-c700-4fc2-a5bc-12f10353641c"
      },
      "source": [
        "## Saving the model\n",
        "\n",
        "model.save_weights('first_run.hdf5')"
      ],
      "execution_count": null,
      "outputs": [
        {
          "output_type": "error",
          "ename": "NameError",
          "evalue": "name 'model' is not defined",
          "traceback": [
            "\u001b[0;31m---------------------------------------------------------------------------\u001b[0m",
            "\u001b[0;31mNameError\u001b[0m                                 Traceback (most recent call last)",
            "\u001b[0;32m<ipython-input-7-f3860cb5fe1d>\u001b[0m in \u001b[0;36m<module>\u001b[0;34m\u001b[0m\n\u001b[1;32m      1\u001b[0m \u001b[0;31m## Saving the model\u001b[0m\u001b[0;34m\u001b[0m\u001b[0;34m\u001b[0m\u001b[0;34m\u001b[0m\u001b[0m\n\u001b[1;32m      2\u001b[0m \u001b[0;34m\u001b[0m\u001b[0m\n\u001b[0;32m----> 3\u001b[0;31m \u001b[0mmodel\u001b[0m\u001b[0;34m.\u001b[0m\u001b[0msave_weights\u001b[0m\u001b[0;34m(\u001b[0m\u001b[0;34m'first_run.hdf5'\u001b[0m\u001b[0;34m)\u001b[0m\u001b[0;34m\u001b[0m\u001b[0;34m\u001b[0m\u001b[0m\n\u001b[0m",
            "\u001b[0;31mNameError\u001b[0m: name 'model' is not defined"
          ]
        }
      ]
    },
    {
      "cell_type": "code",
      "metadata": {
        "id": "3eCpPxE7UT2V",
        "outputId": "fb9d4001-83b8-434e-c814-6786ce933b7d"
      },
      "source": [
        "# model.save_weights('first_run.hdf5')\n",
        "# model_arch.load_weights('first_run.hdf5')\n",
        " \n",
        "# predict outputs on validation images\n",
        "test_points = 2\n",
        "\n",
        "# Inference data\n",
        "infer_data    = x_train[:test_points]\n",
        "infer_label   = y_train[:test_points]\n",
        "\n",
        "prediction  = model_arch.predict(infer_data)\n",
        "\n",
        "# use CTC decoder\n",
        "out = K.get_value(K.ctc_decode(prediction, input_length=np.ones(prediction.shape[0])*prediction.shape[1],\n",
        "                         greedy=True)[0][0])\n",
        " \n",
        "\n",
        "print(out)"
      ],
      "execution_count": null,
      "outputs": [
        {
          "output_type": "stream",
          "text": [
            "[[ 1  4  1  1  5  3  0 -1 -1 -1 -1 -1 -1 -1 -1 -1 -1 -1 -1 -1 -1 -1 -1 -1\n",
            "  -1 -1 -1 -1 -1 -1 -1 -1 -1 -1 -1 -1 -1 -1 -1 -1 -1 -1 -1 -1 -1 -1 -1 -1\n",
            "  -1 -1]\n",
            " [ 1  4  1  5  3  0  0 -1 -1 -1 -1 -1 -1 -1 -1 -1 -1 -1 -1 -1 -1 -1 -1 -1\n",
            "  -1 -1 -1 -1 -1 -1 -1 -1 -1 -1 -1 -1 -1 -1 -1 -1 -1 -1 -1 -1 -1 -1 -1 -1\n",
            "  -1 -1]]\n"
          ],
          "name": "stdout"
        }
      ]
    },
    {
      "cell_type": "code",
      "metadata": {
        "id": "6mFzuhEQUT2W",
        "outputId": "c0f0acae-9e68-48f2-afb7-c58a6a0554cc"
      },
      "source": [
        "for i in range(test_points):\n",
        "    print(\"True label: \", infer_label[i])\n",
        "    \n",
        "    pred_lab = []\n",
        "    x = out[i]\n",
        "    for i in x:\n",
        "        if i!=-1:\n",
        "            pred_lab.append(i)\n",
        "            \n",
        "    print(\"Predicted label: \", np.asarray(pred_lab))\n",
        "    print(type(infer_label[i]))\n",
        "    print('\\n')\n",
        "    "
      ],
      "execution_count": null,
      "outputs": [
        {
          "output_type": "stream",
          "text": [
            "True label:  [1 4 1 1 5 3 0]\n",
            "Predicted label:  [1 4 1 1 5 3 0]\n",
            "<class 'numpy.ndarray'>\n",
            "\n",
            "\n",
            "True label:  [1 4 1 5 3 0 0]\n",
            "Predicted label:  [1 4 1 5 3 0 0]\n",
            "<class 'numpy.ndarray'>\n",
            "\n",
            "\n"
          ],
          "name": "stdout"
        }
      ]
    },
    {
      "cell_type": "code",
      "metadata": {
        "id": "ABMqHME9UT2W"
      },
      "source": [
        ""
      ],
      "execution_count": null,
      "outputs": []
    }
  ]
}