{
 "cells": [
  {
   "cell_type": "code",
   "execution_count": 1,
   "metadata": {},
   "outputs": [],
   "source": [
    "'''\n",
    "Author        : Aditya Jain\n",
    "Date Created  : 20th November, 2020\n",
    "About         : This code contains a LSTM model with CTC loss function for primitive segmentation in a video\n",
    "'''\n",
    "\n",
    "from tensorflow.keras.layers import Dense, Input, Reshape, TimeDistributed, Lambda, LSTM\n",
    "from tensorflow.keras.models import Model as KerasModel\n",
    "import tensorflow.keras.backend as K\n",
    "\n",
    "from helper_func.lenet import lenet\n",
    "from helper_func.misc import slide_window\n",
    "from helper_func.ctc import ctc_decode\n",
    "\n",
    "import h5py\n",
    "import importlib"
   ]
  },
  {
   "cell_type": "code",
   "execution_count": 10,
   "metadata": {},
   "outputs": [
    {
     "ename": "ModuleNotFoundError",
     "evalue": "No module named 'keras'",
     "output_type": "error",
     "traceback": [
      "\u001b[0;31m---------------------------------------------------------------------------\u001b[0m",
      "\u001b[0;31mModuleNotFoundError\u001b[0m                       Traceback (most recent call last)",
      "\u001b[0;32m<ipython-input-10-75ca570d1b16>\u001b[0m in \u001b[0;36m<module>\u001b[0;34m\u001b[0m\n\u001b[0;32m----> 1\u001b[0;31m \u001b[0;32mimport\u001b[0m \u001b[0mkeras\u001b[0m\u001b[0;34m\u001b[0m\u001b[0;34m\u001b[0m\u001b[0m\n\u001b[0m\u001b[1;32m      2\u001b[0m \u001b[0;32mfrom\u001b[0m \u001b[0mCTCModel\u001b[0m \u001b[0;32mimport\u001b[0m \u001b[0mCTCModel\u001b[0m\u001b[0;34m\u001b[0m\u001b[0;34m\u001b[0m\u001b[0m\n",
      "\u001b[0;31mModuleNotFoundError\u001b[0m: No module named 'keras'"
     ]
    }
   ],
   "source": [
    "import keras\n",
    "from CTCModel import CTCModel"
   ]
  },
  {
   "cell_type": "markdown",
   "metadata": {},
   "source": [
    "#### Loading Data (IAM)\n",
    "This loads the academic IAM dataset"
   ]
  },
  {
   "cell_type": "code",
   "execution_count": 2,
   "metadata": {},
   "outputs": [
    {
     "name": "stdout",
     "output_type": "stream",
     "text": [
      "(7101, 28, 952)\n",
      "(7101, 97)\n",
      "(1861, 28, 952)\n",
      "(1861, 97)\n"
     ]
    }
   ],
   "source": [
    "dataset_path = \"/home/aditya/Dropbox/LearningfromDemons/ctc_data/iam_lines.h5\"\n",
    "\n",
    "with h5py.File(dataset_path, \"r\") as f:\n",
    "    x_train = f['x_train'][:]\n",
    "    y_train = f['y_train'][:]\n",
    "    x_test  = f['x_test'][:]\n",
    "    y_test  = f['y_test'][:]\n",
    "    \n",
    "    \n",
    "print(x_train.shape)\n",
    "print(y_train.shape)\n",
    "print(x_test.shape)\n",
    "print(y_test.shape)"
   ]
  },
  {
   "cell_type": "markdown",
   "metadata": {},
   "source": [
    "Subsampling data for a quick test"
   ]
  },
  {
   "cell_type": "code",
   "execution_count": 3,
   "metadata": {},
   "outputs": [
    {
     "name": "stdout",
     "output_type": "stream",
     "text": [
      "(28, 952) 97 189\n"
     ]
    }
   ],
   "source": [
    "x_train = x_train[:32,:]\n",
    "y_train = y_train[:32,:]\n",
    "\n",
    "input_shape               = x_train.shape[1:]\n",
    "output_length             = y_train.shape[1]\n",
    "image_height, image_width = input_shape\n",
    "window_width              = 12\n",
    "window_stride             = 5\n",
    "num_windows               = int((image_width - window_width) / window_stride) + 1\n",
    "num_classes               = 80\n",
    "# output_length, num_classes = output_shape\n",
    "\n",
    "print(input_shape, output_length, num_windows)"
   ]
  },
  {
   "cell_type": "markdown",
   "metadata": {},
   "source": [
    "#### Model Architecture: Building Model"
   ]
  },
  {
   "cell_type": "code",
   "execution_count": 8,
   "metadata": {},
   "outputs": [
    {
     "ename": "NameError",
     "evalue": "name 'dataset_class_' is not defined",
     "output_type": "error",
     "traceback": [
      "\u001b[0;31m---------------------------------------------------------------------------\u001b[0m",
      "\u001b[0;31mNameError\u001b[0m                                 Traceback (most recent call last)",
      "\u001b[0;32m<ipython-input-8-7b58d9b6d5f0>\u001b[0m in \u001b[0;36m<module>\u001b[0;34m\u001b[0m\n\u001b[1;32m      6\u001b[0m \u001b[0mnetwork_args\u001b[0m \u001b[0;34m=\u001b[0m \u001b[0;34m{\u001b[0m\u001b[0;34m}\u001b[0m\u001b[0;34m\u001b[0m\u001b[0;34m\u001b[0m\u001b[0m\n\u001b[1;32m      7\u001b[0m model = model_class_(\n\u001b[0;32m----> 8\u001b[0;31m         dataset_cls=dataset_class_, network_fn=network_fn_, dataset_args=dataset_args, network_args=network_args,)\n\u001b[0m\u001b[1;32m      9\u001b[0m \u001b[0;34m\u001b[0m\u001b[0m\n\u001b[1;32m     10\u001b[0m \u001b[0mprint\u001b[0m\u001b[0;34m(\u001b[0m\u001b[0mmodel\u001b[0m\u001b[0;34m)\u001b[0m\u001b[0;34m\u001b[0m\u001b[0;34m\u001b[0m\u001b[0m\n",
      "\u001b[0;31mNameError\u001b[0m: name 'dataset_class_' is not defined"
     ]
    }
   ],
   "source": [
    "models_module = importlib.import_module(\"text_recognizer.models\")\n",
    "model_class_ = getattr(models_module, \"LineModelCtc\")\n",
    "\n",
    "networks_module = importlib.import_module(\"text_recognizer.networks\")\n",
    "network_fn_ = getattr(networks_module, \"line_lstm_ctc\")\n",
    "network_args = {}\n",
    "model = model_class_(\n",
    "        dataset_cls=dataset_class_, network_fn=network_fn_, dataset_args=dataset_args, network_args=network_args,)\n",
    "    \n",
    "print(model)"
   ]
  },
  {
   "cell_type": "code",
   "execution_count": 22,
   "metadata": {},
   "outputs": [],
   "source": [
    "import sys\n",
    "\n",
    "sys.path.append('/home/aditya/Dropbox/LearningfromDemons/ctc_lfd/')\n",
    "\n",
    "from text_recognizer.networks import ctc"
   ]
  },
  {
   "cell_type": "code",
   "execution_count": 7,
   "metadata": {},
   "outputs": [
    {
     "name": "stdout",
     "output_type": "stream",
     "text": [
      "['/home/aditya/Dropbox/LearningfromDemons/ctc_lfd', '/home/aditya/miniconda3/envs/fsdl-text-recognizer/lib/python37.zip', '/home/aditya/miniconda3/envs/fsdl-text-recognizer/lib/python3.7', '/home/aditya/miniconda3/envs/fsdl-text-recognizer/lib/python3.7/lib-dynload', '', '/home/aditya/.local/lib/python3.7/site-packages', '/home/aditya/.local/lib/python3.7/site-packages/decorator-4.4.2-py3.7.egg', '/home/aditya/miniconda3/envs/fsdl-text-recognizer/lib/python3.7/site-packages', '/home/aditya/miniconda3/envs/fsdl-text-recognizer/lib/python3.7/site-packages/IPython/extensions', '/home/aditya/.ipython']\n"
     ]
    }
   ],
   "source": [
    "import sys\n",
    "print(sys.path)"
   ]
  },
  {
   "cell_type": "code",
   "execution_count": null,
   "metadata": {},
   "outputs": [],
   "source": []
  }
 ],
 "metadata": {
  "kernelspec": {
   "display_name": "Python 3",
   "language": "python",
   "name": "python3"
  },
  "language_info": {
   "codemirror_mode": {
    "name": "ipython",
    "version": 3
   },
   "file_extension": ".py",
   "mimetype": "text/x-python",
   "name": "python",
   "nbconvert_exporter": "python",
   "pygments_lexer": "ipython3",
   "version": "3.7.9"
  }
 },
 "nbformat": 4,
 "nbformat_minor": 4
}
