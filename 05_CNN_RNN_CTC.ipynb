{
 "cells": [
  {
   "cell_type": "code",
   "execution_count": 11,
   "metadata": {},
   "outputs": [],
   "source": [
    "'''\n",
    "Author       : Aditya Jain\n",
    "Date Started : This notebook was created on 2nd December, 2020\n",
    "About        : Implementing CNN+RNN+CTC\n",
    "'''\n",
    "\n",
    "from tensorflow import keras\n",
    "from tensorflow.keras.layers import Dropout, Dense, Input, Reshape, TimeDistributed, Lambda, LSTM, Bidirectional, Conv2D, MaxPooling2D, Flatten\n",
    "import tensorflow.keras.backend as K\n",
    "from tensorflow.keras.models import Model \n",
    "from tensorflow.keras.utils import to_categorical\n",
    "import tensorflow as tf\n",
    "\n",
    "import numpy as np\n",
    "import pickle\n",
    "from sklearn.model_selection import train_test_split\n",
    "\n",
    "from keras.preprocessing.sequence import pad_sequences"
   ]
  },
  {
   "cell_type": "markdown",
   "metadata": {},
   "source": [
    "#### Importing MIME Data"
   ]
  },
  {
   "cell_type": "code",
   "execution_count": 39,
   "metadata": {},
   "outputs": [
    {
     "name": "stdout",
     "output_type": "stream",
     "text": [
      "(8, 30, 800)\n",
      "(8, 7)\n",
      "{1: 'Reach', 2: 'Tilt', 3: 'Retract', 4: 'Grasp', 5: 'Release'}\n",
      "{'Push': [1, 1, 3], 'Pour': [1, 4, 1, 2, 1, 5, 3], 'Pick': [1, 4, 1, 1, 5, 3], 'Stack': [1, 4, 1, 5, 3]}\n",
      "Training Data:  (6, 30, 800) (6, 7)\n",
      "Testing Data:  (2, 30, 800) (2, 7)\n",
      "Total classes of primitives:  6\n",
      "Max label length:  7\n"
     ]
    }
   ],
   "source": [
    "data_read  = pickle.load(open(\"MIME_small.pickle\",\"rb\"))\n",
    "\n",
    "image_data = data_read['data_image']\n",
    "labels     = data_read['data_label']\n",
    "prim_map   = data_read['primitive_map']\n",
    "label_map  = data_read['label_map']\n",
    "\n",
    "labels  = pad_sequences(labels, padding='post', value = 0)  # making sure all labels are of equal length\n",
    "\n",
    "print(image_data.shape)\n",
    "print(labels.shape)\n",
    "print(prim_map)\n",
    "print(label_map)\n",
    "\n",
    "x_train, x_test, y_train, y_test = train_test_split(image_data, labels, test_size=0.2, random_state=43)  \n",
    "# note: passing a value to random_state produces the exact split every time\n",
    "\n",
    "print(\"Training Data: \", x_train.shape, y_train.shape)\n",
    "print(\"Testing Data: \", x_test.shape, y_test.shape)\n",
    "\n",
    "no_classes    = len(prim_map)+1\n",
    "max_label_len = labels.shape[-1]\n",
    "\n",
    "training_pts  = int(x_train.shape[0])\n",
    "test_pts      = int(x_test.shape[0])\n",
    "\n",
    "print(\"Total classes of primitives: \", no_classes)\n",
    "print(\"Max label length: \", max_label_len)"
   ]
  },
  {
   "cell_type": "code",
   "execution_count": 40,
   "metadata": {},
   "outputs": [
    {
     "name": "stdout",
     "output_type": "stream",
     "text": [
      "6 2\n"
     ]
    }
   ],
   "source": [
    "print(training_pts, test_pts)"
   ]
  },
  {
   "cell_type": "markdown",
   "metadata": {},
   "source": [
    "#### Model Architecture"
   ]
  },
  {
   "cell_type": "code",
   "execution_count": 41,
   "metadata": {},
   "outputs": [
    {
     "name": "stdout",
     "output_type": "stream",
     "text": [
      "(30, 800)\n",
      "<class 'int'>\n",
      "Model: \"functional_9\"\n",
      "_________________________________________________________________\n",
      "Layer (type)                 Output Shape              Param #   \n",
      "=================================================================\n",
      "input_3 (InputLayer)         [(None, 30, 800)]         0         \n",
      "_________________________________________________________________\n",
      "reshape_4 (Reshape)          (None, 30, 800, 1)        0         \n",
      "_________________________________________________________________\n",
      "conv2d_4 (Conv2D)            (None, 30, 800, 32)       320       \n",
      "_________________________________________________________________\n",
      "max_pooling2d_4 (MaxPooling2 (None, 15, 400, 32)       0         \n",
      "_________________________________________________________________\n",
      "conv2d_5 (Conv2D)            (None, 15, 400, 64)       18496     \n",
      "_________________________________________________________________\n",
      "max_pooling2d_5 (MaxPooling2 (None, 7, 200, 64)        0         \n",
      "_________________________________________________________________\n",
      "reshape_5 (Reshape)          (None, 7, 12800)          0         \n",
      "_________________________________________________________________\n",
      "bidirectional_2 (Bidirection (None, 7, 128)            6586880   \n",
      "_________________________________________________________________\n",
      "dense_5 (Dense)              (None, 7, 7)              903       \n",
      "=================================================================\n",
      "Total params: 6,606,599\n",
      "Trainable params: 6,606,599\n",
      "Non-trainable params: 0\n",
      "_________________________________________________________________\n"
     ]
    }
   ],
   "source": [
    "#### Doing Here\n",
    "\n",
    "image_shape = x_train.shape[1:]        # the image shape\n",
    "no_channels = 1                        # no of channels in the image, 3 in case of RGB\n",
    "print(image_shape)\n",
    "\n",
    "# no_classes        = 80\n",
    "# max_label_len = 4\n",
    "print(type(image_shape[0]))\n",
    "\n",
    "# architecture is defined below\n",
    "\n",
    "inputs     = Input(shape=image_shape)\n",
    "reshape1   = Reshape((image_shape[0], image_shape[1], 1))(inputs)\n",
    "conv_1     = Conv2D(32, (3,3), activation = 'relu', padding='same')(reshape1)\n",
    "max_pool1  = MaxPooling2D(pool_size=(2, 2))(conv_1)\n",
    "conv_2     = Conv2D(64, (3,3), activation = 'relu', padding='same')(max_pool1)\n",
    "max_pool2  = MaxPooling2D(pool_size=(2, 2))(conv_2)\n",
    "reshape    = Reshape(target_shape=(int(image_shape[0]/4), int(image_shape[1]/4*64)))(max_pool2)\n",
    "dense1     = Dense(64)(reshape)                                                  # this dense helps reduce no of params\n",
    "blstm1     = Bidirectional(LSTM(64, return_sequences=True))(reshape)\n",
    "outputs    = Dense(no_classes+1, activation=\"softmax\")(blstm1)\n",
    "\n",
    "\n",
    "model_arch = Model(inputs, outputs)           # for viz the model architecture\n",
    "model_arch.summary()"
   ]
  },
  {
   "cell_type": "markdown",
   "metadata": {},
   "source": [
    "#### Loss Function"
   ]
  },
  {
   "cell_type": "code",
   "execution_count": 42,
   "metadata": {},
   "outputs": [],
   "source": [
    "labels       = Input(name='the_labels', shape=[max_label_len], dtype='float32')\n",
    "input_length = Input(name='input_length', shape=[1], dtype='int64')\n",
    "label_length = Input(name='label_length', shape=[1], dtype='int64')\n",
    "\n",
    "def ctc_lambda_func(args):\n",
    "    y_pred, labels, input_length, label_length = args\n",
    " \n",
    "    return K.ctc_batch_cost(labels, y_pred, input_length, label_length)\n",
    " \n",
    "\n",
    "loss_out = Lambda(ctc_lambda_func, output_shape=(1,), name='ctc')([outputs, labels, input_length, label_length])\n",
    "model = Model(inputs=[inputs, labels, input_length, label_length], outputs=loss_out)\n",
    "\n",
    "model.compile(loss={'ctc': lambda y_true, y_pred: y_pred}, optimizer = 'adam')"
   ]
  },
  {
   "cell_type": "code",
   "execution_count": 43,
   "metadata": {},
   "outputs": [],
   "source": [
    "input_length = np.asarray([7 for i in range(training_pts)])              # the number of timesteps that go as input to LSTM layer\n",
    "label_length = np.asarray([max_label_len for i in range(training_pts)])"
   ]
  },
  {
   "cell_type": "markdown",
   "metadata": {},
   "source": [
    "#### Training"
   ]
  },
  {
   "cell_type": "code",
   "execution_count": 44,
   "metadata": {},
   "outputs": [
    {
     "name": "stdout",
     "output_type": "stream",
     "text": [
      "Epoch 1/10\n",
      "1/1 [==============================] - 0s 1ms/step - loss: inf\n",
      "Epoch 2/10\n",
      "1/1 [==============================] - 0s 847us/step - loss: inf\n",
      "Epoch 3/10\n",
      "1/1 [==============================] - 0s 830us/step - loss: inf\n",
      "Epoch 4/10\n",
      "1/1 [==============================] - 0s 753us/step - loss: inf\n",
      "Epoch 5/10\n",
      "1/1 [==============================] - 0s 1ms/step - loss: inf\n",
      "Epoch 6/10\n",
      "1/1 [==============================] - 0s 914us/step - loss: inf\n",
      "Epoch 7/10\n",
      "1/1 [==============================] - 0s 989us/step - loss: inf\n",
      "Epoch 8/10\n",
      "1/1 [==============================] - 0s 795us/step - loss: inf\n",
      "Epoch 9/10\n",
      "1/1 [==============================] - 0s 818us/step - loss: inf\n",
      "Epoch 10/10\n",
      "1/1 [==============================] - 0s 1ms/step - loss: inf\n"
     ]
    },
    {
     "data": {
      "text/plain": [
       "<tensorflow.python.keras.callbacks.History at 0x7fc0f57f9450>"
      ]
     },
     "execution_count": 44,
     "metadata": {},
     "output_type": "execute_result"
    }
   ],
   "source": [
    "model.fit(x=[x_train, y_train, input_length, label_length], y=np.zeros(training_pts), epochs=10)"
   ]
  },
  {
   "cell_type": "markdown",
   "metadata": {},
   "source": [
    "#### Inference"
   ]
  },
  {
   "cell_type": "code",
   "execution_count": 60,
   "metadata": {},
   "outputs": [
    {
     "name": "stdout",
     "output_type": "stream",
     "text": [
      "[[55 -1 -1 -1 -1 -1 -1]\n",
      " [41 55 -1 -1 -1 -1 -1]]\n"
     ]
    }
   ],
   "source": [
    "# model.save_weights('first_run.hdf5')\n",
    "# model_arch.load_weights('first_run.hdf5')\n",
    " \n",
    "# predict outputs on validation images\n",
    "test_img = x_test[:2]\n",
    "prediction = model_arch.predict(test_img)\n",
    "\n",
    "# use CTC decoder\n",
    "out = K.get_value(K.ctc_decode(prediction, input_length=np.ones(prediction.shape[0])*prediction.shape[1],\n",
    "                         greedy=True)[0][0])\n",
    " \n",
    "\n",
    "print(out)\n"
   ]
  },
  {
   "cell_type": "code",
   "execution_count": null,
   "metadata": {},
   "outputs": [],
   "source": []
  }
 ],
 "metadata": {
  "kernelspec": {
   "display_name": "Python 3",
   "language": "python",
   "name": "python3"
  },
  "language_info": {
   "codemirror_mode": {
    "name": "ipython",
    "version": 3
   },
   "file_extension": ".py",
   "mimetype": "text/x-python",
   "name": "python",
   "nbconvert_exporter": "python",
   "pygments_lexer": "ipython3",
   "version": "3.7.9"
  }
 },
 "nbformat": 4,
 "nbformat_minor": 4
}
