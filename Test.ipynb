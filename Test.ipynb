{
 "cells": [
  {
   "cell_type": "code",
   "execution_count": 87,
   "metadata": {},
   "outputs": [],
   "source": [
    "from tensorflow import keras\n",
    "from tensorflow.keras.layers import Dropout, Dense, Input, Reshape, TimeDistributed, Lambda, LSTM, Bidirectional, Conv2D, MaxPooling2D, Flatten\n",
    "import tensorflow.keras.backend as K\n",
    "\n",
    "from helper_func.lenet import lenet\n",
    "from helper_func.misc import slide_window\n",
    "from helper_func.ctc import ctc_decode\n",
    "\n",
    "from tensorflow.keras.models import Model as KerasModel"
   ]
  },
  {
   "cell_type": "markdown",
   "metadata": {},
   "source": [
    "#### Importing Data"
   ]
  },
  {
   "cell_type": "code",
   "execution_count": 71,
   "metadata": {},
   "outputs": [
    {
     "name": "stdout",
     "output_type": "stream",
     "text": [
      "(7101, 28, 952)\n",
      "(7101, 97)\n"
     ]
    }
   ],
   "source": [
    "import h5py\n",
    "import matplotlib.pyplot as plt\n",
    "from helper_func.misc import slide_window\n",
    "\n",
    "dataset_path = \"/home/aditya/Dropbox/LearningfromDemons/ctc_data/iam_lines.h5\"\n",
    "\n",
    "with h5py.File(dataset_path, \"r\") as f:\n",
    "    x_train = f['x_train'][:]\n",
    "    y_train = f['y_train'][:]\n",
    "    x_test  = f['x_test'][:]\n",
    "    y_test  = f['y_test'][:]\n",
    "    \n",
    "print(x_train.shape)\n",
    "print(y_train.shape)"
   ]
  },
  {
   "cell_type": "markdown",
   "metadata": {},
   "source": [
    "#### Defining LeNet Keras"
   ]
  },
  {
   "cell_type": "code",
   "execution_count": 79,
   "metadata": {},
   "outputs": [],
   "source": [
    "input_shape = (28,28,1)\n",
    "\n",
    "\n",
    "cnn_model = keras.Sequential(\n",
    "    [\n",
    "        Conv2D(32, kernel_size=(3, 3), activation=\"relu\", input_shape=input_shape),\n",
    "        MaxPooling2D(pool_size=(2, 2)),\n",
    "        Conv2D(64, kernel_size=(3, 3), activation=\"relu\"),\n",
    "        MaxPooling2D(pool_size=(2, 2)),\n",
    "        Flatten(),\n",
    "        Dense(64)\n",
    "    ]\n",
    ")\n"
   ]
  },
  {
   "cell_type": "code",
   "execution_count": 91,
   "metadata": {},
   "outputs": [
    {
     "name": "stdout",
     "output_type": "stream",
     "text": [
      "Model: \"functional_41\"\n",
      "__________________________________________________________________________________________________\n",
      "Layer (type)                    Output Shape         Param #     Connected to                     \n",
      "==================================================================================================\n",
      "image (InputLayer)              [(None, 28, 952)]    0                                            \n",
      "__________________________________________________________________________________________________\n",
      "reshape_32 (Reshape)            (None, 28, 952, 1)   0           image[0][0]                      \n",
      "__________________________________________________________________________________________________\n",
      "lambda_37 (Lambda)              (None, 67, 28, 28, 1 0           reshape_32[0][0]                 \n",
      "__________________________________________________________________________________________________\n",
      "time_distributed_17 (TimeDistri (None, 67, 64)       121280      lambda_37[0][0]                  \n",
      "__________________________________________________________________________________________________\n",
      "lstm1 (LSTM)                    (None, 67, 128)      98816       time_distributed_17[0][0]        \n",
      "__________________________________________________________________________________________________\n",
      "input_length (InputLayer)       [(None, 1)]          0                                            \n",
      "__________________________________________________________________________________________________\n",
      "y_true (InputLayer)             [(None, 97)]         0                                            \n",
      "__________________________________________________________________________________________________\n",
      "dense_25 (Dense)                (None, 67, 10)       1290        lstm1[0][0]                      \n",
      "__________________________________________________________________________________________________\n",
      "lambda_38 (Lambda)              (None, 1)            0           input_length[0][0]               \n",
      "__________________________________________________________________________________________________\n",
      "label_length (InputLayer)       [(None, 1)]          0                                            \n",
      "__________________________________________________________________________________________________\n",
      "ctc_loss (Lambda)               (None, 1)            0           y_true[0][0]                     \n",
      "                                                                 dense_25[0][0]                   \n",
      "                                                                 lambda_38[0][0]                  \n",
      "                                                                 label_length[0][0]               \n",
      "__________________________________________________________________________________________________\n",
      "ctc_decoded (Lambda)            (None, None)         0           dense_25[0][0]                   \n",
      "                                                                 lambda_38[0][0]                  \n",
      "==================================================================================================\n",
      "Total params: 221,386\n",
      "Trainable params: 221,386\n",
      "Non-trainable params: 0\n",
      "__________________________________________________________________________________________________\n",
      "None\n"
     ]
    }
   ],
   "source": [
    "#### Doing Here\n",
    "\n",
    "input_shape = (28,952)\n",
    "image_height, image_width = input_shape\n",
    "window_width = image_height\n",
    "window_stride = window_width/2\n",
    "no_classes    = 10\n",
    "output_length = 97\n",
    "num_windows   = int((image_width - window_width) / window_stride) + 1\n",
    "\n",
    "image_input  = Input(shape=input_shape, name=\"image\")\n",
    "y_true       = Input(shape=(output_length,), name=\"y_true\")\n",
    "input_length = Input(shape=(1,), name=\"input_length\")\n",
    "label_length = Input(shape=(1,), name=\"label_length\")\n",
    "\n",
    "image_reshape = Reshape((image_height, image_width, 1))(image_input)\n",
    "image_patches = Lambda(slide_window, arguments=\n",
    "                       {\"window_width\": window_width, \"window_stride\": window_stride})(image_reshape)\n",
    "\n",
    "\n",
    "convnet_outputs = TimeDistributed(cnn_model)(image_patches)\n",
    "blstm           = LSTM(128, name=\"lstm1\", return_sequences=True)(convnet_outputs)\n",
    "softmax_output  = Dense(no_classes, activation=\"softmax\")(blstm)\n",
    "\n",
    "\n",
    "input_length_processed = Lambda(lambda x, num_windows=None: x * num_windows, \n",
    "                                arguments={\"num_windows\": num_windows})(input_length)\n",
    "\n",
    "ctc_loss_output        = Lambda(lambda x: K.ctc_batch_cost(x[0], x[1], x[2], x[3]), \n",
    "                         name=\"ctc_loss\")([y_true, softmax_output, input_length_processed, label_length])\n",
    "ctc_decoded_output     = Lambda(lambda x: ctc_decode(x[0], x[1], output_length), name=\"ctc_decoded\")(\n",
    "        [softmax_output, input_length_processed])\n",
    "    \n",
    "model                  = KerasModel(inputs=[image_input, y_true, input_length, label_length], \n",
    "                                    outputs=[ctc_loss_output, ctc_decoded_output])\n",
    "\n",
    "model.compile(optimizer=\"adam\")\n",
    "\n",
    "print(model.summary())\n",
    "\n"
   ]
  },
  {
   "cell_type": "code",
   "execution_count": null,
   "metadata": {},
   "outputs": [],
   "source": []
  }
 ],
 "metadata": {
  "kernelspec": {
   "display_name": "Python 3",
   "language": "python",
   "name": "python3"
  },
  "language_info": {
   "codemirror_mode": {
    "name": "ipython",
    "version": 3
   },
   "file_extension": ".py",
   "mimetype": "text/x-python",
   "name": "python",
   "nbconvert_exporter": "python",
   "pygments_lexer": "ipython3",
   "version": "3.7.9"
  }
 },
 "nbformat": 4,
 "nbformat_minor": 4
}
