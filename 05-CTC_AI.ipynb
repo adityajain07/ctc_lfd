{
 "cells": [
  {
   "cell_type": "code",
   "execution_count": 5,
   "metadata": {},
   "outputs": [],
   "source": [
    "'''\n",
    "Author       : Aditya Jain\n",
    "Date Started : This notebook was created on 2nd December, 2020\n",
    "About        : Implementing CNN+RNN+CTC\n",
    "'''\n",
    "\n",
    "from tensorflow import keras\n",
    "from tensorflow.keras.layers import Dropout, Dense, Input, Reshape, TimeDistributed, Lambda, LSTM, Bidirectional, Conv2D, MaxPooling2D, Flatten\n",
    "import tensorflow.keras.backend as K\n",
    "\n",
    "\n",
    "from tensorflow.keras.models import Model \n",
    "from tensorflow.keras.utils import to_categorical\n",
    "import tensorflow as tf"
   ]
  },
  {
   "cell_type": "markdown",
   "metadata": {},
   "source": [
    "#### Importing Data"
   ]
  },
  {
   "cell_type": "code",
   "execution_count": 2,
   "metadata": {},
   "outputs": [
    {
     "name": "stdout",
     "output_type": "stream",
     "text": [
      "(1000, 28, 952)\n",
      "(1000, 97)\n"
     ]
    }
   ],
   "source": [
    "import h5py\n",
    "import matplotlib.pyplot as plt\n",
    "from helper_func.misc import slide_window\n",
    "\n",
    "dataset_path = \"/home/aditya/Dropbox/LearningfromDemons/ctc_data/iam_lines.h5\"\n",
    "no_classes   = 80\n",
    "\n",
    "with h5py.File(dataset_path, \"r\") as f:\n",
    "    x_train = f['x_train'][:]\n",
    "    y_train = f['y_train'][:]\n",
    "    x_test  = f['x_test'][:]\n",
    "    y_test  = f['y_test'][:]\n",
    "    \n",
    "\n",
    "x_train = x_train[:1000]\n",
    "y_train = y_train[:1000]\n",
    "x_test  = x_test[:1000]\n",
    "y_test  = y_test[:1000]\n",
    "    \n",
    "# y_train = to_categorical(y_train, no_classes)\n",
    "y_test  = to_categorical(y_train, no_classes)\n",
    "\n",
    "print(x_train.shape)\n",
    "print(y_train.shape)"
   ]
  },
  {
   "cell_type": "markdown",
   "metadata": {},
   "source": [
    "#### Defining LeNet Keras"
   ]
  },
  {
   "cell_type": "code",
   "execution_count": 17,
   "metadata": {},
   "outputs": [
    {
     "name": "stdout",
     "output_type": "stream",
     "text": [
      "(28, 952)\n",
      "Model: \"functional_15\"\n",
      "_________________________________________________________________\n",
      "Layer (type)                 Output Shape              Param #   \n",
      "=================================================================\n",
      "input_13 (InputLayer)        [(None, 28, 952, 1)]      0         \n",
      "_________________________________________________________________\n",
      "conv2d_24 (Conv2D)           (None, 28, 952, 32)       320       \n",
      "_________________________________________________________________\n",
      "max_pooling2d_24 (MaxPooling (None, 14, 476, 32)       0         \n",
      "_________________________________________________________________\n",
      "conv2d_25 (Conv2D)           (None, 14, 476, 64)       18496     \n",
      "_________________________________________________________________\n",
      "max_pooling2d_25 (MaxPooling (None, 7, 238, 64)        0         \n",
      "_________________________________________________________________\n",
      "reshape_7 (Reshape)          (None, 7, 15232)          0         \n",
      "_________________________________________________________________\n",
      "bidirectional_4 (Bidirection (None, 7, 128)            7832064   \n",
      "_________________________________________________________________\n",
      "dense_3 (Dense)              (None, 7, 81)             10449     \n",
      "=================================================================\n",
      "Total params: 7,861,329\n",
      "Trainable params: 7,861,329\n",
      "Non-trainable params: 0\n",
      "_________________________________________________________________\n"
     ]
    }
   ],
   "source": [
    "#### Doing Here\n",
    "\n",
    "image_shape = x_train.shape[1:]        # the image shape\n",
    "no_channels = 1                        # no of channels in the image, 3 in case of RGB\n",
    "print(image_shape)\n",
    "\n",
    "no_classes    = 80\n",
    "output_length = 97\n",
    "\n",
    "# architecture is defined below\n",
    "\n",
    "inputs     = Input(shape=(image_shape[0], image_shape[1], no_channels))\n",
    "conv_1     = Conv2D(32, (3,3), activation = 'relu', padding='same')(inputs)\n",
    "max_pool1  = MaxPooling2D(pool_size=(2, 2))(conv_1)\n",
    "conv_2     = Conv2D(64, (3,3), activation = 'relu', padding='same')(max_pool1)\n",
    "max_pool2  = MaxPooling2D(pool_size=(2, 2))(conv_2)\n",
    "reshape    = Reshape(target_shape=(int(image_shape[0]/4), int(image_shape[1]/4*64)))(max_pool2)\n",
    "dense1     = Dense(64)(reshape)                                                  # this dense helps reduce no of params\n",
    "blstm1     = Bidirectional(LSTM(64, return_sequences=True))(reshape)\n",
    "output     = Dense(no_classes+1, activation=\"softmax\")(blstm1)\n",
    "\n",
    "\n",
    "model_arch = Model(inputs, output)           # for viz the model architecture\n",
    "model_arch.summary()"
   ]
  },
  {
   "cell_type": "code",
   "execution_count": null,
   "metadata": {},
   "outputs": [],
   "source": []
  }
 ],
 "metadata": {
  "kernelspec": {
   "display_name": "Python 3",
   "language": "python",
   "name": "python3"
  },
  "language_info": {
   "codemirror_mode": {
    "name": "ipython",
    "version": 3
   },
   "file_extension": ".py",
   "mimetype": "text/x-python",
   "name": "python",
   "nbconvert_exporter": "python",
   "pygments_lexer": "ipython3",
   "version": "3.7.9"
  }
 },
 "nbformat": 4,
 "nbformat_minor": 4
}
