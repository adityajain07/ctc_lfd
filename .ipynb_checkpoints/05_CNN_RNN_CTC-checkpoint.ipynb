{
 "cells": [
  {
   "cell_type": "code",
   "execution_count": 33,
   "metadata": {},
   "outputs": [],
   "source": [
    "'''\n",
    "Author       : Aditya Jain\n",
    "Date Started : This notebook was created on 2nd December, 2020\n",
    "About        : Implementing CNN+RNN+CTC\n",
    "'''\n",
    "\n",
    "from tensorflow import keras\n",
    "from tensorflow.keras.layers import Dropout, Dense, Input, Reshape, TimeDistributed, Lambda, LSTM, Bidirectional, Conv2D, MaxPooling2D, Flatten\n",
    "import tensorflow.keras.backend as K\n",
    "\n",
    "\n",
    "from tensorflow.keras.models import Model \n",
    "from tensorflow.keras.utils import to_categorical\n",
    "import tensorflow as tf\n",
    "\n",
    "import numpy as np"
   ]
  },
  {
   "cell_type": "markdown",
   "metadata": {},
   "source": [
    "#### Importing Data"
   ]
  },
  {
   "cell_type": "code",
   "execution_count": 48,
   "metadata": {},
   "outputs": [
    {
     "name": "stdout",
     "output_type": "stream",
     "text": [
      "(1000, 28, 952)\n",
      "(1000, 4)\n",
      "(1000, 28, 952)\n"
     ]
    }
   ],
   "source": [
    "import h5py\n",
    "import matplotlib.pyplot as plt\n",
    "from helper_func.misc import slide_window\n",
    "\n",
    "dataset_path = \"/home/aditya/Dropbox/LearningfromDemons/ctc_data/iam_lines.h5\"\n",
    "no_classes   = 80\n",
    "\n",
    "with h5py.File(dataset_path, \"r\") as f:\n",
    "    x_train = f['x_train'][:]\n",
    "    y_train = f['y_train'][:]\n",
    "    x_test  = f['x_test'][:]\n",
    "    y_test  = f['y_test'][:]\n",
    "    \n",
    "\n",
    "x_train = x_train[:1000]\n",
    "y_train = y_train[:1000]\n",
    "x_test  = x_test[:1000]\n",
    "y_test  = y_test[:1000]\n",
    "    \n",
    "# y_train = to_categorical(y_train, no_classes)\n",
    "y_test  = to_categorical(y_train, no_classes)\n",
    "\n",
    "y_train = y_train[:, :4]\n",
    "\n",
    "print(x_train.shape)\n",
    "print(y_train.shape)\n",
    "\n",
    "print(x_test.shape)"
   ]
  },
  {
   "cell_type": "markdown",
   "metadata": {},
   "source": [
    "#### Model Architecture"
   ]
  },
  {
   "cell_type": "code",
   "execution_count": 40,
   "metadata": {},
   "outputs": [
    {
     "name": "stdout",
     "output_type": "stream",
     "text": [
      "(28, 952)\n",
      "<class 'int'>\n",
      "Model: \"functional_38\"\n",
      "_________________________________________________________________\n",
      "Layer (type)                 Output Shape              Param #   \n",
      "=================================================================\n",
      "input_21 (InputLayer)        [(None, 28, 952)]         0         \n",
      "_________________________________________________________________\n",
      "reshape_16 (Reshape)         (None, 28, 952, 1)        0         \n",
      "_________________________________________________________________\n",
      "conv2d_40 (Conv2D)           (None, 28, 952, 32)       320       \n",
      "_________________________________________________________________\n",
      "max_pooling2d_40 (MaxPooling (None, 14, 476, 32)       0         \n",
      "_________________________________________________________________\n",
      "conv2d_41 (Conv2D)           (None, 14, 476, 64)       18496     \n",
      "_________________________________________________________________\n",
      "max_pooling2d_41 (MaxPooling (None, 7, 238, 64)        0         \n",
      "_________________________________________________________________\n",
      "reshape_17 (Reshape)         (None, 7, 15232)          0         \n",
      "_________________________________________________________________\n",
      "bidirectional_12 (Bidirectio (None, 7, 128)            7832064   \n",
      "_________________________________________________________________\n",
      "dense_19 (Dense)             (None, 7, 81)             10449     \n",
      "=================================================================\n",
      "Total params: 7,861,329\n",
      "Trainable params: 7,861,329\n",
      "Non-trainable params: 0\n",
      "_________________________________________________________________\n"
     ]
    }
   ],
   "source": [
    "#### Doing Here\n",
    "\n",
    "image_shape = x_train.shape[1:]        # the image shape\n",
    "no_channels = 1                        # no of channels in the image, 3 in case of RGB\n",
    "print(image_shape)\n",
    "\n",
    "no_classes        = 80\n",
    "max_label_len = 4\n",
    "print(type(image_shape[0]))\n",
    "# architecture is defined below\n",
    "\n",
    "inputs     = Input(shape=image_shape)\n",
    "reshape1   = Reshape((image_shape[0], image_shape[1], 1))(inputs)\n",
    "conv_1     = Conv2D(32, (3,3), activation = 'relu', padding='same')(reshape1)\n",
    "max_pool1  = MaxPooling2D(pool_size=(2, 2))(conv_1)\n",
    "conv_2     = Conv2D(64, (3,3), activation = 'relu', padding='same')(max_pool1)\n",
    "max_pool2  = MaxPooling2D(pool_size=(2, 2))(conv_2)\n",
    "reshape    = Reshape(target_shape=(int(image_shape[0]/4), int(image_shape[1]/4*64)))(max_pool2)\n",
    "dense1     = Dense(64)(reshape)                                                  # this dense helps reduce no of params\n",
    "blstm1     = Bidirectional(LSTM(64, return_sequences=True))(reshape)\n",
    "outputs    = Dense(no_classes+1, activation=\"softmax\")(blstm1)\n",
    "\n",
    "\n",
    "model_arch = Model(inputs, outputs)           # for viz the model architecture\n",
    "model_arch.summary()"
   ]
  },
  {
   "cell_type": "markdown",
   "metadata": {},
   "source": [
    "#### Loss Function"
   ]
  },
  {
   "cell_type": "code",
   "execution_count": 41,
   "metadata": {},
   "outputs": [],
   "source": [
    "labels       = Input(name='the_labels', shape=[max_label_len], dtype='float32')\n",
    "input_length = Input(name='input_length', shape=[1], dtype='int64')\n",
    "label_length = Input(name='label_length', shape=[1], dtype='int64')\n",
    "\n",
    "def ctc_lambda_func(args):\n",
    "    y_pred, labels, input_length, label_length = args\n",
    " \n",
    "    return K.ctc_batch_cost(labels, y_pred, input_length, label_length)\n",
    " \n",
    "\n",
    "loss_out = Lambda(ctc_lambda_func, output_shape=(1,), name='ctc')([outputs, labels, input_length, label_length])\n",
    "model = Model(inputs=[inputs, labels, input_length, label_length], outputs=loss_out)\n",
    "\n",
    "model.compile(loss={'ctc': lambda y_true, y_pred: y_pred}, optimizer = 'adam')"
   ]
  },
  {
   "cell_type": "code",
   "execution_count": 42,
   "metadata": {},
   "outputs": [],
   "source": [
    "input_length = np.asarray([7 for i in range(1000)])\n",
    "label_length = np.asarray([4 for i in range(1000)])"
   ]
  },
  {
   "cell_type": "markdown",
   "metadata": {},
   "source": [
    "#### Training"
   ]
  },
  {
   "cell_type": "code",
   "execution_count": 44,
   "metadata": {},
   "outputs": [
    {
     "name": "stdout",
     "output_type": "stream",
     "text": [
      "Epoch 1/10\n",
      "32/32 [==============================] - 22s 698ms/step - loss: 14.4914\n",
      "Epoch 2/10\n",
      "32/32 [==============================] - 24s 755ms/step - loss: 14.1822\n",
      "Epoch 3/10\n",
      "32/32 [==============================] - 24s 763ms/step - loss: 14.0000\n",
      "Epoch 4/10\n",
      "32/32 [==============================] - 24s 751ms/step - loss: 13.8351\n",
      "Epoch 5/10\n",
      "32/32 [==============================] - 24s 752ms/step - loss: 13.6313\n",
      "Epoch 6/10\n",
      "32/32 [==============================] - 24s 755ms/step - loss: 13.3635\n",
      "Epoch 7/10\n",
      "32/32 [==============================] - 25s 772ms/step - loss: 12.9474\n",
      "Epoch 8/10\n",
      "32/32 [==============================] - 24s 755ms/step - loss: 12.2852\n",
      "Epoch 9/10\n",
      "32/32 [==============================] - 24s 760ms/step - loss: 11.5104\n",
      "Epoch 10/10\n",
      "32/32 [==============================] - 26s 803ms/step - loss: 10.5880\n"
     ]
    },
    {
     "data": {
      "text/plain": [
       "<tensorflow.python.keras.callbacks.History at 0x7fa76b572c50>"
      ]
     },
     "execution_count": 44,
     "metadata": {},
     "output_type": "execute_result"
    }
   ],
   "source": [
    "model.fit(x=[x_train, y_train, input_length, label_length], y=np.zeros(1000), epochs=10)"
   ]
  },
  {
   "cell_type": "markdown",
   "metadata": {},
   "source": [
    "#### Inference"
   ]
  },
  {
   "cell_type": "code",
   "execution_count": 60,
   "metadata": {},
   "outputs": [
    {
     "name": "stdout",
     "output_type": "stream",
     "text": [
      "[[55 -1 -1 -1 -1 -1 -1]\n",
      " [41 55 -1 -1 -1 -1 -1]]\n"
     ]
    }
   ],
   "source": [
    "# model.save_weights('first_run.hdf5')\n",
    "# model_arch.load_weights('first_run.hdf5')\n",
    " \n",
    "# predict outputs on validation images\n",
    "test_img = x_test[:2]\n",
    "prediction = model_arch.predict(test_img)\n",
    "\n",
    "# use CTC decoder\n",
    "out = K.get_value(K.ctc_decode(prediction, input_length=np.ones(prediction.shape[0])*prediction.shape[1],\n",
    "                         greedy=True)[0][0])\n",
    " \n",
    "\n",
    "print(out)\n"
   ]
  },
  {
   "cell_type": "code",
   "execution_count": null,
   "metadata": {},
   "outputs": [],
   "source": []
  }
 ],
 "metadata": {
  "kernelspec": {
   "display_name": "Python 3",
   "language": "python",
   "name": "python3"
  },
  "language_info": {
   "codemirror_mode": {
    "name": "ipython",
    "version": 3
   },
   "file_extension": ".py",
   "mimetype": "text/x-python",
   "name": "python",
   "nbconvert_exporter": "python",
   "pygments_lexer": "ipython3",
   "version": "3.7.9"
  }
 },
 "nbformat": 4,
 "nbformat_minor": 4
}
