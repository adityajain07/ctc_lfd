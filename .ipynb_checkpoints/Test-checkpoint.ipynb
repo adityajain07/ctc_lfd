{
 "cells": [
  {
   "cell_type": "code",
   "execution_count": 51,
   "metadata": {},
   "outputs": [],
   "source": [
    "from tensorflow import keras\n",
    "from tensorflow.keras.layers import Dropout, Dense, Input, Reshape, TimeDistributed, Lambda, LSTM, Bidirectional, Conv2D, MaxPooling2D, Flatten\n"
   ]
  },
  {
   "cell_type": "code",
   "execution_count": 42,
   "metadata": {},
   "outputs": [
    {
     "name": "stdout",
     "output_type": "stream",
     "text": [
      "Model: \"functional_16\"\n",
      "_________________________________________________________________\n",
      "Layer (type)                 Output Shape              Param #   \n",
      "=================================================================\n",
      "input (InputLayer)           [(None, 28, 952, 1)]      0         \n",
      "_________________________________________________________________\n",
      "conv2d_17 (Conv2D)           (None, 28, 952, 32)       320       \n",
      "_________________________________________________________________\n",
      "max_pooling2d_16 (MaxPooling (None, 9, 317, 32)        0         \n",
      "=================================================================\n",
      "Total params: 320\n",
      "Trainable params: 320\n",
      "Non-trainable params: 0\n",
      "_________________________________________________________________\n",
      "None\n"
     ]
    }
   ],
   "source": [
    "input_shape = (28,952,1)\n",
    "\n",
    "input_data    = Input(name=\"input\", shape=input_shape)\n",
    "image_patches = Lambda(slide_window, arguments=\n",
    "                       {\"window_width\": window_width, \"window_stride\": window_stride})(image_reshaped)\n",
    "cnn           = Conv2D(32, kernel_size=(3, 3), activation=\"relu\")(input_data)\n",
    "max_pool      = MaxPooling2D(pool_size=(3,3))(cnn)\n",
    "# flat       = Flatten()(max_pool)\n",
    "# output     = Dense(10, activation=\"softmax\")(flat)\n",
    "\n",
    "model      = keras.Model(inputs=input_data, outputs=max_pool)  \n",
    "\n",
    "model.compile(loss=\"categorical_crossentropy\", optimizer=\"adam\", metrics=[\"accuracy\"])\n",
    "\n",
    "print(model.summary())"
   ]
  },
  {
   "cell_type": "markdown",
   "metadata": {},
   "source": [
    "#### Defining LeNet Keras"
   ]
  },
  {
   "cell_type": "code",
   "execution_count": 62,
   "metadata": {},
   "outputs": [],
   "source": [
    "input_shape = (28,28,1)\n",
    "\n",
    "\n",
    "cnn_model = keras.Sequential(\n",
    "    [\n",
    "        Conv2D(32, kernel_size=(3, 3), activation=\"relu\", input_shape=input_shape),\n",
    "        MaxPooling2D(pool_size=(2, 2)),\n",
    "        Conv2D(64, kernel_size=(3, 3), activation=\"relu\"),\n",
    "        MaxPooling2D(pool_size=(2, 2)),\n",
    "        Flatten(),\n",
    "        Dense(64)\n",
    "    ]\n",
    ")\n",
    "\n"
   ]
  },
  {
   "cell_type": "code",
   "execution_count": 63,
   "metadata": {},
   "outputs": [
    {
     "name": "stdout",
     "output_type": "stream",
     "text": [
      "Model: \"functional_34\"\n",
      "_________________________________________________________________\n",
      "Layer (type)                 Output Shape              Param #   \n",
      "=================================================================\n",
      "input (InputLayer)           [(None, 28, 952)]         0         \n",
      "_________________________________________________________________\n",
      "reshape_20 (Reshape)         (None, 28, 952, 1)        0         \n",
      "_________________________________________________________________\n",
      "lambda_15 (Lambda)           (None, 67, 28, 28, 1)     0         \n",
      "_________________________________________________________________\n",
      "time_distributed_5 (TimeDist (None, 67, 64)            121280    \n",
      "_________________________________________________________________\n",
      "lstm1 (LSTM)                 (None, 128)               98816     \n",
      "_________________________________________________________________\n",
      "dense_11 (Dense)             (None, 10)                1290      \n",
      "=================================================================\n",
      "Total params: 221,386\n",
      "Trainable params: 221,386\n",
      "Non-trainable params: 0\n",
      "_________________________________________________________________\n",
      "None\n"
     ]
    }
   ],
   "source": [
    "#### Doing Here\n",
    "\n",
    "input_shape = (28,952)\n",
    "image_height, image_width = input_shape\n",
    "window_width = image_height\n",
    "window_stride = window_width/2\n",
    "\n",
    "input_data    = Input(name=\"input\", shape=input_shape)\n",
    "\n",
    "image_reshape = Reshape((image_height, image_width, 1))(input_data)\n",
    "image_patches = Lambda(slide_window, arguments=\n",
    "                       {\"window_width\": window_width, \"window_stride\": window_stride})(image_reshape)\n",
    "\n",
    "\n",
    "# cnn1          = Conv2D(32, kernel_size=(3, 3), activation=\"relu\")\n",
    "# cnn2          = Conv2D(64, kernel_size=(3, 3), activation=\"relu\", name=\"Conv2\")(cnn1)\n",
    "# max_pool      = MaxPooling2D(pool_size=(3,3), name=\"Pool1\")(cnn2)\n",
    "# dropout       = Dropout(0.2)(max_pool)\n",
    "# flatten       = Flatten()(dropout)\n",
    "# dense1        = Dense(128)(flatten)\n",
    "\n",
    "convnet_outputs = TimeDistributed(cnn_model)(image_patches)\n",
    "blstm           = LSTM(128, name=\"lstm1\")(convnet_outputs)\n",
    "output          = Dense(10, activation=\"softmax\")(blstm)\n",
    "\n",
    "model      = keras.Model(inputs=input_data, outputs=output)  \n",
    "\n",
    "model.compile(loss=\"categorical_crossentropy\", optimizer=\"adam\", metrics=[\"accuracy\"])\n",
    "\n",
    "print(model.summary())\n",
    "\n"
   ]
  },
  {
   "cell_type": "code",
   "execution_count": 27,
   "metadata": {},
   "outputs": [
    {
     "name": "stdout",
     "output_type": "stream",
     "text": [
      "(7101, 28, 952)\n"
     ]
    }
   ],
   "source": [
    "import h5py\n",
    "import matplotlib.pyplot as plt\n",
    "from helper_func.misc import slide_window\n",
    "\n",
    "dataset_path = \"/home/aditya/Dropbox/LearningfromDemons/ctc_data/iam_lines.h5\"\n",
    "\n",
    "with h5py.File(dataset_path, \"r\") as f:\n",
    "    x_train = f['x_train'][:]\n",
    "    y_train = f['y_train'][:]\n",
    "    x_test  = f['x_test'][:]\n",
    "    y_test  = f['y_test'][:]\n",
    "    \n",
    "print(x_train.shape)"
   ]
  },
  {
   "cell_type": "code",
   "execution_count": null,
   "metadata": {},
   "outputs": [],
   "source": [
    "data"
   ]
  }
 ],
 "metadata": {
  "kernelspec": {
   "display_name": "Python 3",
   "language": "python",
   "name": "python3"
  },
  "language_info": {
   "codemirror_mode": {
    "name": "ipython",
    "version": 3
   },
   "file_extension": ".py",
   "mimetype": "text/x-python",
   "name": "python",
   "nbconvert_exporter": "python",
   "pygments_lexer": "ipython3",
   "version": "3.7.9"
  }
 },
 "nbformat": 4,
 "nbformat_minor": 4
}
