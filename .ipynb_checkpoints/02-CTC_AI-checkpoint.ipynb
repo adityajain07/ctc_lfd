{
 "cells": [
  {
   "cell_type": "code",
   "execution_count": 1,
   "metadata": {},
   "outputs": [],
   "source": [
    "'''\n",
    "Author        : Aditya Jain\n",
    "Date Created  : 20th November, 2020\n",
    "About         : This code contains a LSTM model with CTC loss function for primitive segmentation in a video\n",
    "'''\n",
    "\n",
    "from tensorflow.keras.layers import Dense, Input, Reshape, TimeDistributed, Lambda, LSTM\n",
    "from tensorflow.keras.models import Model as KerasModel\n",
    "import tensorflow.keras.backend as K"
   ]
  },
  {
   "cell_type": "markdown",
   "metadata": {},
   "source": [
    "#### Loading Data"
   ]
  },
  {
   "cell_type": "code",
   "execution_count": null,
   "metadata": {},
   "outputs": [],
   "source": []
  },
  {
   "cell_type": "markdown",
   "metadata": {},
   "source": [
    "#### Model Architecture"
   ]
  },
  {
   "cell_type": "code",
   "execution_count": 10,
   "metadata": {},
   "outputs": [
    {
     "ename": "NameError",
     "evalue": "name 'window_stride' is not defined",
     "output_type": "error",
     "traceback": [
      "\u001b[0;31m---------------------------------------------------------------------------\u001b[0m",
      "\u001b[0;31mNameError\u001b[0m                                 Traceback (most recent call last)",
      "\u001b[0;32m<ipython-input-10-3a488b42d9de>\u001b[0m in \u001b[0;36m<module>\u001b[0;34m\u001b[0m\n\u001b[1;32m     14\u001b[0m \u001b[0mimage_reshaped\u001b[0m \u001b[0;34m=\u001b[0m \u001b[0mReshape\u001b[0m\u001b[0;34m(\u001b[0m\u001b[0;34m(\u001b[0m\u001b[0mimage_height\u001b[0m\u001b[0;34m,\u001b[0m \u001b[0mimage_width\u001b[0m\u001b[0;34m,\u001b[0m \u001b[0;36m1\u001b[0m\u001b[0;34m)\u001b[0m\u001b[0;34m)\u001b[0m\u001b[0;34m(\u001b[0m\u001b[0mimage_input\u001b[0m\u001b[0;34m)\u001b[0m\u001b[0;34m\u001b[0m\u001b[0;34m\u001b[0m\u001b[0m\n\u001b[1;32m     15\u001b[0m image_patches  = Lambda(slide_window, \n\u001b[0;32m---> 16\u001b[0;31m                        arguments={\"window_width\": window_width, \"window_stride\": window_stride})(image_reshaped)\n\u001b[0m\u001b[1;32m     17\u001b[0m \u001b[0;34m\u001b[0m\u001b[0m\n\u001b[1;32m     18\u001b[0m \u001b[0;31m# Make a LeNet and get rid of the last two layers (softmax and dropout)\u001b[0m\u001b[0;34m\u001b[0m\u001b[0;34m\u001b[0m\u001b[0;34m\u001b[0m\u001b[0m\n",
      "\u001b[0;31mNameError\u001b[0m: name 'window_stride' is not defined"
     ]
    }
   ],
   "source": [
    "##\n",
    "input_shape = (28,28)\n",
    "output_length = 10\n",
    "image_height, image_width = input_shape\n",
    "slide_window = 5\n",
    "window_width = 5\n",
    "\n",
    "# CTC architecture has 4 inputs\n",
    "image_input  = Input(shape=input_shape, name=\"image\")\n",
    "y_true       = Input(shape=(output_length,), name=\"y_true\")\n",
    "input_length = Input(shape=(1,), name=\"input_length\")\n",
    "label_length = Input(shape=(1,), name=\"label_length\")\n",
    "\n",
    "image_reshaped = Reshape((image_height, image_width, 1))(image_input)\n",
    "image_patches  = Lambda(slide_window, \n",
    "                       arguments={\"window_width\": window_width, \"window_stride\": window_stride})(image_reshaped)\n",
    "\n",
    "# Make a LeNet and get rid of the last two layers (softmax and dropout)\n",
    "convnet         = lenet((image_height, window_width, 1), (num_classes,))\n",
    "convnet         = KerasModel(inputs=convnet.inputs, outputs=convnet.layers[-2].output)   # (num_windows, 12\n",
    "convnet_outputs = TimeDistributed(convnet)(image_patches)\n",
    "\n",
    "lstm_output    = LSTM(128, return_sequences=True)(convnet_outputs)                          # (num_windows, 128)\n",
    "softmax_output = Dense(num_classes, activation=\"softmax\", name=\"softmax_output\")(lstm_output)\n",
    "    "
   ]
  },
  {
   "cell_type": "code",
   "execution_count": null,
   "metadata": {},
   "outputs": [],
   "source": []
  }
 ],
 "metadata": {
  "kernelspec": {
   "display_name": "Python 3",
   "language": "python",
   "name": "python3"
  },
  "language_info": {
   "codemirror_mode": {
    "name": "ipython",
    "version": 3
   },
   "file_extension": ".py",
   "mimetype": "text/x-python",
   "name": "python",
   "nbconvert_exporter": "python",
   "pygments_lexer": "ipython3",
   "version": "3.6.9"
  }
 },
 "nbformat": 4,
 "nbformat_minor": 4
}
