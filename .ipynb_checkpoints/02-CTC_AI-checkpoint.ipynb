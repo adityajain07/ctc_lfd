{
 "cells": [
  {
   "cell_type": "code",
   "execution_count": 3,
   "metadata": {},
   "outputs": [],
   "source": [
    "'''\n",
    "Author        : Aditya Jain\n",
    "Date Created  : 20th November, 2020\n",
    "About         : This code contains a LSTM model with CTC loss function for primitive segmentation in a video\n",
    "'''\n",
    "\n",
    "from tensorflow.keras.layers import Dense, Input, Reshape, TimeDistributed, Lambda, LSTM\n",
    "from tensorflow.keras.models import Model as KerasModel\n",
    "import tensorflow.keras.backend as K\n",
    "\n",
    "from helper_func.lenet import lenet\n",
    "from helper_func.misc import slide_window\n",
    "from helper_func.ctc import ctc_decode\n",
    "\n",
    "import h5py"
   ]
  },
  {
   "cell_type": "markdown",
   "metadata": {},
   "source": [
    "#### Loading Data (IAM)\n",
    "This loads the academic IAM dataset"
   ]
  },
  {
   "cell_type": "code",
   "execution_count": 29,
   "metadata": {},
   "outputs": [
    {
     "ename": "AttributeError",
     "evalue": "'File' object has no attribute 'mapping'",
     "output_type": "error",
     "traceback": [
      "\u001b[0;31m---------------------------------------------------------------------------\u001b[0m",
      "\u001b[0;31mAttributeError\u001b[0m                            Traceback (most recent call last)",
      "\u001b[0;32m<ipython-input-29-f245ff6e0c78>\u001b[0m in \u001b[0;36m<module>\u001b[0;34m\u001b[0m\n\u001b[1;32m      7\u001b[0m     \u001b[0my_test\u001b[0m  \u001b[0;34m=\u001b[0m \u001b[0mf\u001b[0m\u001b[0;34m[\u001b[0m\u001b[0;34m'y_test'\u001b[0m\u001b[0;34m]\u001b[0m\u001b[0;34m[\u001b[0m\u001b[0;34m:\u001b[0m\u001b[0;34m]\u001b[0m\u001b[0;34m\u001b[0m\u001b[0;34m\u001b[0m\u001b[0m\n\u001b[1;32m      8\u001b[0m \u001b[0;34m\u001b[0m\u001b[0m\n\u001b[0;32m----> 9\u001b[0;31m     \u001b[0mprint\u001b[0m\u001b[0;34m(\u001b[0m\u001b[0mf\u001b[0m\u001b[0;34m.\u001b[0m\u001b[0mmapping\u001b[0m\u001b[0;34m(\u001b[0m\u001b[0;34m)\u001b[0m\u001b[0;34m)\u001b[0m\u001b[0;34m\u001b[0m\u001b[0;34m\u001b[0m\u001b[0m\n\u001b[0m\u001b[1;32m     10\u001b[0m \u001b[0;34m\u001b[0m\u001b[0m\n\u001b[1;32m     11\u001b[0m \u001b[0mprint\u001b[0m\u001b[0;34m(\u001b[0m\u001b[0mx_train\u001b[0m\u001b[0;34m.\u001b[0m\u001b[0mshape\u001b[0m\u001b[0;34m)\u001b[0m\u001b[0;34m\u001b[0m\u001b[0;34m\u001b[0m\u001b[0m\n",
      "\u001b[0;31mAttributeError\u001b[0m: 'File' object has no attribute 'mapping'"
     ]
    }
   ],
   "source": [
    "dataset_path = \"/home/aditya/Dropbox/LearningfromDemons/ctc_data/iam_lines.h5\"\n",
    "\n",
    "with h5py.File(dataset_path, \"r\") as f:\n",
    "    x_train = f['x_train'][:]\n",
    "    y_train = f['y_train'][:]\n",
    "    x_test  = f['x_test'][:]\n",
    "    y_test  = f['y_test'][:]\n",
    "    \n",
    "    print(f.mapping())\n",
    "    \n",
    "print(x_train.shape)\n",
    "print(y_train.shape)\n",
    "print(x_test.shape)\n",
    "print(y_test.shape)"
   ]
  },
  {
   "cell_type": "markdown",
   "metadata": {},
   "source": [
    "Subsampling data for a quick test"
   ]
  },
  {
   "cell_type": "code",
   "execution_count": 26,
   "metadata": {},
   "outputs": [
    {
     "name": "stdout",
     "output_type": "stream",
     "text": [
      "(28, 952) 97\n"
     ]
    }
   ],
   "source": [
    "x_train = x_train[:32,:]\n",
    "y_train = y_train[:32,:]\n",
    "\n",
    "input_shape               = x_train.shape[1:]\n",
    "output_length             = y_train.shape[1]\n",
    "image_height, image_width = input_shape\n",
    "window_width              = 28\n",
    "window_stride             = 14\n",
    "num_windows               = int((image_width - window_width) / window_stride) + 1\n",
    "num_classes               = 80\n",
    "# output_length, num_classes = output_shape\n",
    "\n",
    "print(input_shape, output_length)"
   ]
  },
  {
   "cell_type": "markdown",
   "metadata": {},
   "source": [
    "#### Model Architecture"
   ]
  },
  {
   "cell_type": "code",
   "execution_count": 27,
   "metadata": {},
   "outputs": [
    {
     "ename": "NameError",
     "evalue": "name 'num_classes' is not defined",
     "output_type": "error",
     "traceback": [
      "\u001b[0;31m---------------------------------------------------------------------------\u001b[0m",
      "\u001b[0;31mNameError\u001b[0m                                 Traceback (most recent call last)",
      "\u001b[0;32m<ipython-input-27-2a857d846bed>\u001b[0m in \u001b[0;36m<module>\u001b[0;34m\u001b[0m\n\u001b[1;32m     10\u001b[0m \u001b[0;34m\u001b[0m\u001b[0m\n\u001b[1;32m     11\u001b[0m \u001b[0;31m# Make a LeNet and get rid of the last two layers (softmax and dropout)\u001b[0m\u001b[0;34m\u001b[0m\u001b[0;34m\u001b[0m\u001b[0;34m\u001b[0m\u001b[0m\n\u001b[0;32m---> 12\u001b[0;31m \u001b[0mconvnet\u001b[0m         \u001b[0;34m=\u001b[0m \u001b[0mlenet\u001b[0m\u001b[0;34m(\u001b[0m\u001b[0;34m(\u001b[0m\u001b[0mimage_height\u001b[0m\u001b[0;34m,\u001b[0m \u001b[0mwindow_width\u001b[0m\u001b[0;34m,\u001b[0m \u001b[0;36m1\u001b[0m\u001b[0;34m)\u001b[0m\u001b[0;34m,\u001b[0m \u001b[0;34m(\u001b[0m\u001b[0mnum_classes\u001b[0m\u001b[0;34m,\u001b[0m\u001b[0;34m)\u001b[0m\u001b[0;34m)\u001b[0m\u001b[0;34m\u001b[0m\u001b[0;34m\u001b[0m\u001b[0m\n\u001b[0m\u001b[1;32m     13\u001b[0m \u001b[0mconvnet\u001b[0m         \u001b[0;34m=\u001b[0m \u001b[0mKerasModel\u001b[0m\u001b[0;34m(\u001b[0m\u001b[0minputs\u001b[0m\u001b[0;34m=\u001b[0m\u001b[0mconvnet\u001b[0m\u001b[0;34m.\u001b[0m\u001b[0minputs\u001b[0m\u001b[0;34m,\u001b[0m \u001b[0moutputs\u001b[0m\u001b[0;34m=\u001b[0m\u001b[0mconvnet\u001b[0m\u001b[0;34m.\u001b[0m\u001b[0mlayers\u001b[0m\u001b[0;34m[\u001b[0m\u001b[0;34m-\u001b[0m\u001b[0;36m2\u001b[0m\u001b[0;34m]\u001b[0m\u001b[0;34m.\u001b[0m\u001b[0moutput\u001b[0m\u001b[0;34m)\u001b[0m      \u001b[0;31m# (num_windows, 12\u001b[0m\u001b[0;34m\u001b[0m\u001b[0;34m\u001b[0m\u001b[0m\n\u001b[1;32m     14\u001b[0m \u001b[0mconvnet_outputs\u001b[0m \u001b[0;34m=\u001b[0m \u001b[0mTimeDistributed\u001b[0m\u001b[0;34m(\u001b[0m\u001b[0mconvnet\u001b[0m\u001b[0;34m)\u001b[0m\u001b[0;34m(\u001b[0m\u001b[0mimage_patches\u001b[0m\u001b[0;34m)\u001b[0m\u001b[0;34m\u001b[0m\u001b[0;34m\u001b[0m\u001b[0m\n",
      "\u001b[0;31mNameError\u001b[0m: name 'num_classes' is not defined"
     ]
    }
   ],
   "source": [
    "# CTC architecture has 4 inputs\n",
    "image_input  = Input(shape=input_shape, name=\"image\")\n",
    "y_true       = Input(shape=(output_length,), name=\"y_true\")\n",
    "input_length = Input(shape=(1,), name=\"input_length\")\n",
    "label_length = Input(shape=(1,), name=\"label_length\")\n",
    "\n",
    "image_reshaped = Reshape((image_height, image_width, 1))(image_input)\n",
    "image_patches  = Lambda(slide_window, \n",
    "                       arguments={\"window_width\": window_width, \"window_stride\": window_stride})(image_reshaped)\n",
    "\n",
    "# Make a LeNet and get rid of the last two layers (softmax and dropout)\n",
    "convnet         = lenet((image_height, window_width, 1), (num_classes,))\n",
    "convnet         = KerasModel(inputs=convnet.inputs, outputs=convnet.layers[-2].output)      # (num_windows, 12\n",
    "convnet_outputs = TimeDistributed(convnet)(image_patches)\n",
    "\n",
    "# (num_windows, 128)\n",
    "lstm_output     = LSTM(128, return_sequences=True)(convnet_outputs)                          \n",
    "\n",
    "# (num_windows, num_classes)\n",
    "softmax_output  = Dense(num_classes, activation=\"softmax\", name=\"softmax_output\")(lstm_output)\n",
    "    \n",
    "    \n",
    "input_length_processed = Lambda(lambda x, num_windows=None: x * num_windows, \n",
    "                                arguments={\"num_windows\": num_windows})(input_length)\n",
    "\n",
    "ctc_loss_output        = Lambda(lambda x: K.ctc_batch_cost(x[0], x[1], x[2], x[3]), \n",
    "                         name=\"ctc_loss\")([y_true, softmax_output, input_length_processed, label_length])\n",
    "ctc_decoded_output     = Lambda(lambda x: ctc_decode(x[0], x[1], output_length), name=\"ctc_decoded\")(\n",
    "        [softmax_output, input_length_processed])\n",
    "\n",
    "model = KerasModel(\n",
    "        inputs=[image_input, y_true, input_length, label_length], outputs=[ctc_loss_output, ctc_decoded_output],)"
   ]
  },
  {
   "cell_type": "code",
   "execution_count": 31,
   "metadata": {},
   "outputs": [
    {
     "name": "stdout",
     "output_type": "stream",
     "text": [
      "Model: \"sequential_9\"\n",
      "_________________________________________________________________\n",
      "Layer (type)                 Output Shape              Param #   \n",
      "=================================================================\n",
      "dense_9 (Dense)              (None, 10)                20        \n",
      "_________________________________________________________________\n",
      "lambda_6 (Lambda)            (None, 10)                0         \n",
      "=================================================================\n",
      "Total params: 20\n",
      "Trainable params: 20\n",
      "Non-trainable params: 0\n",
      "_________________________________________________________________\n"
     ]
    },
    {
     "data": {
      "text/plain": [
       "array([[2.3628315e+01, 3.6925836e+00, 9.9704494e+00, 5.6475468e+00,\n",
       "        2.6805374e-01, 3.9936134e+01, 1.7122160e+01, 1.9566708e+01,\n",
       "        2.2958885e+01, 1.1936594e-02]], dtype=float32)"
      ]
     },
     "execution_count": 31,
     "metadata": {},
     "output_type": "execute_result"
    }
   ],
   "source": [
    "from tensorflow.keras.layers import Conv2D, Dense, Dropout, Flatten, Lambda, MaxPooling2D\n",
    "from tensorflow.keras.models import Sequential, Model\n",
    "\n",
    "model = Sequential()\n",
    "model.add(Input(shape = (1)))\n",
    "model.add(Dense(10))\n",
    "model.add(Lambda(lambda x: x**2))\n",
    "\n",
    "model.compile()\n",
    "model.summary()\n",
    "\n",
    "model.predict([10])"
   ]
  },
  {
   "cell_type": "code",
   "execution_count": null,
   "metadata": {},
   "outputs": [],
   "source": []
  }
 ],
 "metadata": {
  "kernelspec": {
   "display_name": "Python 3",
   "language": "python",
   "name": "python3"
  },
  "language_info": {
   "codemirror_mode": {
    "name": "ipython",
    "version": 3
   },
   "file_extension": ".py",
   "mimetype": "text/x-python",
   "name": "python",
   "nbconvert_exporter": "python",
   "pygments_lexer": "ipython3",
   "version": "3.6.9"
  }
 },
 "nbformat": 4,
 "nbformat_minor": 4
}
